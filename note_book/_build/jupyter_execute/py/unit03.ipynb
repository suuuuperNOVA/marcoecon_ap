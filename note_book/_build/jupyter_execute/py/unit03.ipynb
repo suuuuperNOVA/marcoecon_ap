{
 "cells": [
  {
   "cell_type": "markdown",
   "id": "ee626e82-a974-489f-a07a-4f9e9cb1731d",
   "metadata": {},
   "source": [
    "# National Income and Price Determination"
   ]
  },
  {
   "cell_type": "markdown",
   "id": "f46001fd-f38a-48f7-a924-2576bf78cce9",
   "metadata": {},
   "source": [
    "```{note}\n",
    "Similar to microeconomics, we still use demand-supply model to represent the relationship between price and quantity. However, in macroeconomics, we have some changes in terms:\n",
    "\n",
    "\n",
    "|Microeconomics|Macroeconomics|\n",
    "|:---:|:---:|\n",
    "|Demand|Aggregate demand|\n",
    "|Supply|Aggregate supply|\n",
    "|Price|Price level|\n",
    "|Quantity|Output|\n",
    "\n",
    "\n",
    "**Aggregate** means to add all together. In macroeconomics, we study total demand and supply in a country rather than a single goods or service. \n",
    "```"
   ]
  }
 ],
 "metadata": {
  "kernelspec": {
   "display_name": "Python 3 (ipykernel)",
   "language": "python",
   "name": "python3"
  },
  "language_info": {
   "codemirror_mode": {
    "name": "ipython",
    "version": 3
   },
   "file_extension": ".py",
   "mimetype": "text/x-python",
   "name": "python",
   "nbconvert_exporter": "python",
   "pygments_lexer": "ipython3",
   "version": "3.8.13"
  }
 },
 "nbformat": 4,
 "nbformat_minor": 5
}