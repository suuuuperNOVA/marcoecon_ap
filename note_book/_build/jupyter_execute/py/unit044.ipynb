{
 "cells": [
  {
   "cell_type": "markdown",
   "id": "7b8986ee-4957-4ce1-a78a-2400ca4c2053",
   "metadata": {},
   "source": [
    "# Banking and the Expansion of the Money Supply"
   ]
  },
  {
   "cell_type": "markdown",
   "id": "b3fb1f9c-a1d5-4e7c-8e4f-2ac7a5f00994",
   "metadata": {},
   "source": [
    "## Federal Reserve System\n",
    "\n",
    "The Federal Reserve System (Fed) is the central bank of the US, which controls the money supply and supervises all the depository institutions within the country. The Fed operates as the bank of banks.<br>\n",
    "\n",
    "The Fed sets the required reserve ratio to prevent banks from running out of cash.<br>\n",
    "\n",
    "Example<br>\n",
    "If the reserve requirement ratio is 10%, a customer deposits \\$100. The minimum amount of money that a bank needs to keep is \\$10 to meet daily withdrawal needs. The bank can make loans or buy investments with the other \\$90.\n",
    "\n",
    "- $10 held aside by the bank are called **required reserves**.\n",
    "- $90 are called **excess reserves**, the amount that the bank can loan out."
   ]
  },
  {
   "cell_type": "markdown",
   "id": "af77f082-46e3-4f24-aea8-2cf6cd3b64a6",
   "metadata": {},
   "source": [
    "Banks’ reserves are divided into required reserves and excess reserves. Excess reserves are the basis of expansion of the money supply by the banking system."
   ]
  },
  {
   "cell_type": "markdown",
   "id": "682363ec-8ec4-4907-a956-875c5acae799",
   "metadata": {},
   "source": [
    "# Money Multiplier"
   ]
  },
  {
   "cell_type": "markdown",
   "id": "b9bbe01c-3dc4-4177-b46e-d5d126fd5da2",
   "metadata": {},
   "source": [
    "Example<br>\n",
    "Assume the reserve ratio in the US is 10%.\n",
    "- You deposit $1000 in the bank. \n",
    "- The bank must hold $100 (required reserves).\n",
    "- The bank lends $900 out to Bob (excess reserves).\n",
    "- Bob deposits the $900 in his bank.\n",
    "- Bob’s bank must hold \\$90. It loans out \\$810 to Jill.\n",
    "- Jill deposits $810 in her bank.\n",
    "\n",
    "The initial deposit of \\$1000 caused the creation of another \\$1710."
   ]
  },
  {
   "cell_type": "markdown",
   "id": "0c4b5c34-100c-4691-ab83-377811ad3ae2",
   "metadata": {},
   "source": [
    "<math xmlns=\"http://www.w3.org/1998/Math/MathML\">\n",
    "  <mtext>Money multiplier</mtext>\n",
    "  <mo>=</mo>\n",
    "  <mfrac>\n",
    "    <mn>1</mn>\n",
    "    <mtext>Reserve requirement ratio</mtext>\n",
    "  </mfrac>\n",
    "</math>"
   ]
  },
  {
   "cell_type": "markdown",
   "id": "d749d18e-31ba-41f6-9458-56bd627e3773",
   "metadata": {},
   "source": [
    "The amount predicted by the simple money multiplier may be overstated because it does not take into account a bank’s desire to hold excess reserves or the public holding more currency."
   ]
  },
  {
   "cell_type": "markdown",
   "id": "6523ff36-6110-4291-9232-349c7f6abeb8",
   "metadata": {},
   "source": [
    "The figure below shows the effect of money multiplier.\n",
    "- M0 = Currency in circulation + Monetary base + Bank reserves"
   ]
  },
  {
   "cell_type": "markdown",
   "id": "854dabb2-481e-4867-b3d0-2c191c4f4a9c",
   "metadata": {},
   "source": [
    "<img src='../pic/unit044_moneysupply.png' alt='money' width='500'/>"
   ]
  },
  {
   "cell_type": "markdown",
   "id": "e8dee788-b26f-4d4e-bc1a-69f01e58890f",
   "metadata": {},
   "source": [
    "## Balance Sheet"
   ]
  },
  {
   "cell_type": "markdown",
   "id": "24efeef9-b0d9-4917-a5e5-7bb0ab8d0e6f",
   "metadata": {},
   "source": [
    "There are 3 components on a balance sheet:\n",
    "- Asset<br>Resource with economic value.\n",
    "- Liability<br>Something that is owed to somebody else.\n",
    "- Equity<br>Equity = Asset - Liability"
   ]
  },
  {
   "cell_type": "markdown",
   "id": "02dfd769-fe0f-4006-a036-8bdc88e76f8b",
   "metadata": {},
   "source": [
    "Example<br>\n",
    "If a customer deposits \\$100 into a checking account,\n",
    "- The bank has \\$100 asset in its vault;\n",
    "- The bank has \\$100 liability to the customer.\n",
    "\n",
    "|Assets|Liability|\n",
    "|:---:|:---:|\n",
    "|+\\$100 currency|+\\$100 demand deposits|"
   ]
  },
  {
   "cell_type": "markdown",
   "id": "b864fdc0-2fea-43e1-b513-b1628c441599",
   "metadata": {},
   "source": [
    "If the reserve requirement ratio is 10%,\n",
    "- The required reserve is \\$10;\n",
    "- The excess reserve is \\$90.\n",
    "\n",
    "|Assets|Liability|\n",
    "|:---:|:---:|\n",
    "|+\\$10 required reserves|+\\$100 demand deposits|\n",
    "|+\\$90 excess reserves||"
   ]
  },
  {
   "cell_type": "markdown",
   "id": "c1fd5ba6-4869-4545-9c95-0d0053bd5f67",
   "metadata": {},
   "source": [
    "If the bank makes \\$90 loan,\n",
    "\n",
    "|Assets|Liability|\n",
    "|:---:|:---:|\n",
    "|+\\$10 required reserves|+\\$100 demand deposits|\n",
    "|+\\$90 loan||"
   ]
  }
 ],
 "metadata": {
  "kernelspec": {
   "display_name": "Python 3 (ipykernel)",
   "language": "python",
   "name": "python3"
  },
  "language_info": {
   "codemirror_mode": {
    "name": "ipython",
    "version": 3
   },
   "file_extension": ".py",
   "mimetype": "text/x-python",
   "name": "python",
   "nbconvert_exporter": "python",
   "pygments_lexer": "ipython3",
   "version": "3.8.13"
  }
 },
 "nbformat": 4,
 "nbformat_minor": 5
}