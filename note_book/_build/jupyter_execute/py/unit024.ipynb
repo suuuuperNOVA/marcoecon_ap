{
 "cells": [
  {
   "cell_type": "markdown",
   "id": "e6e4a8be-ead3-49be-8fc9-0e0c39536b50",
   "metadata": {},
   "source": [
    "# Price Indices and Inflation"
   ]
  },
  {
   "cell_type": "markdown",
   "id": "ff15392b-b01a-44d9-aaac-aa61460bd8d7",
   "metadata": {},
   "source": [
    "## Inflation\n",
    "\n",
    "Inflation\n",
    ": Sustained increase in most prices in the economy.\n",
    ": Reduce the purchasing power of money.<br><br>\n",
    "\n",
    "Deflation\n",
    ": Decrease in general prices or a negative inflation rate.<br><br>\n",
    "\n",
    "Disinflation\n",
    ": A temporary slowing of the pace of price inflation.\n",
    ": Occasions when the inflation rate has reduced marginally over the short term."
   ]
  },
  {
   "cell_type": "markdown",
   "id": "75c00931-761f-4123-bea6-7c0fcfa79758",
   "metadata": {},
   "source": [
    "- Governments always want to achieve a slight inflation because a slight inflation can stimulate consumption.\n",
    "- A high inflation is bad because banks don’t lend and people don’t save. This decreases Investment and GDP.\n",
    "- Deflation is bad because people will hoard money and assets. This decreases consumer spending and GDP."
   ]
  },
  {
   "cell_type": "markdown",
   "id": "d5dc6ffd-90b8-4c46-8cd3-0bb03f3c2009",
   "metadata": {},
   "source": [
    "## Measuring Inflation\n",
    "\n",
    "> The government tracks the prices of specific market baskets that included the same goods and services. \n",
    "\n",
    "### Consumer Price Index/CPI\n",
    "Price indices\n",
    ": Index numbers assigned to each year that show how prices have changed relative to a specific base year.\n",
    ": e.g. Consumer Price Index/CPI<br><br>\n",
    "\n",
    "Consumer Price Index/CPI\n",
    ": Measures the overall change in consumer prices based on a representative basket of goods and services over time.\n",
    ": <math xmlns=\"http://www.w3.org/1998/Math/MathML\">\n",
    "  <mi>C</mi>\n",
    "  <mi>P</mi>\n",
    "  <mi>I</mi>\n",
    "  <mo>=</mo>\n",
    "  <mfrac>\n",
    "    <mtext>Total Cost This Period</mtext>\n",
    "    <mtext>Total Cost Base Period</mtext>\n",
    "  </mfrac>\n",
    "</math>\n",
    "\n",
    "Inflation rate\n",
    ": Percent change in prices from year to year.\n",
    ": <math xmlns=\"http://www.w3.org/1998/Math/MathML\">\n",
    "  <mtext>Inflation Rate</mtext>\n",
    "  <mo>=</mo>\n",
    "  <mfrac>\n",
    "    <mrow>\n",
    "      <mi>C</mi>\n",
    "      <mi>P</mi>\n",
    "      <msub>\n",
    "        <mi>I</mi>\n",
    "        <mi>t</mi>\n",
    "      </msub>\n",
    "      <mo>&#x2212;<!-- − --></mo>\n",
    "      <mi>C</mi>\n",
    "      <mi>P</mi>\n",
    "      <msub>\n",
    "        <mi>I</mi>\n",
    "        <mrow class=\"MJX-TeXAtom-ORD\">\n",
    "          <mi>t</mi>\n",
    "          <mo>&#x2212;<!-- − --></mo>\n",
    "          <mn>1</mn>\n",
    "        </mrow>\n",
    "      </msub>\n",
    "    </mrow>\n",
    "    <mrow>\n",
    "      <mi>C</mi>\n",
    "      <mi>P</mi>\n",
    "      <msub>\n",
    "        <mi>I</mi>\n",
    "        <mrow class=\"MJX-TeXAtom-ORD\">\n",
    "          <mi>t</mi>\n",
    "          <mo>&#x2212;<!-- − --></mo>\n",
    "          <mn>1</mn>\n",
    "        </mrow>\n",
    "      </msub>\n",
    "    </mrow>\n",
    "  </mfrac>\n",
    "  <mo>&#x00D7;<!-- × --></mo>\n",
    "  <mn>100</mn>\n",
    "  <mi mathvariant=\"normal\">&#x0025;<!-- % --></mi>\n",
    "</math>"
   ]
  },
  {
   "cell_type": "markdown",
   "id": "26d96a09-6868-495e-9dcc-d3946e25c35a",
   "metadata": {},
   "source": [
    "The table below shows how the CPI and inflation rates are calculated.\n",
    "\n",
    "|Year|Item in Basket|Price (\\$)|Amount|Cost (\\$)|CPI|Inflation Rate|\n",
    "|:---:|:---:|:---:|:---:|:---:|:---:|:---:|\n",
    "|2020|Cheese<br>Crackers|2.00<br>1.25|5<br>8|20.00|20/20=100||\n",
    "|2021|Cheese<br>Crackers|2.25<br>1.50|5<br>8|23.25|23.25/20=116.25|(116.25-100)/100 = 16.25%|\n",
    "|2022|Cheese<br>Crackers|2.35<br>1.60|5<br>8|24.55|24.55/20=122.75|(122.75-116.25)/116.25 = 5.59%|"
   ]
  },
  {
   "cell_type": "markdown",
   "id": "d7bb4031-238d-4c46-90a3-4ea8c16e0b4d",
   "metadata": {},
   "source": [
    "The inflation rate between 2020 and 2022 can also be calculated:<br>\n",
    "\n",
    "<math xmlns=\"http://www.w3.org/1998/Math/MathML\">\n",
    "  <mtext>Inflation Rate</mtext>\n",
    "  <mo>=</mo>\n",
    "  <mfrac>\n",
    "    <mrow>\n",
    "      <mn>122.75</mn>\n",
    "      <mo>&#x2212;<!-- − --></mo>\n",
    "      <mn>100</mn>\n",
    "    </mrow>\n",
    "    <mn>100</mn>\n",
    "  </mfrac>\n",
    "  <mo>&#x00D7;<!-- × --></mo>\n",
    "  <mn>100</mn>\n",
    "  <mi mathvariant=\"normal\">&#x0025;<!-- % --></mi>\n",
    "  <mo>=</mo>\n",
    "  <mn>22.75</mn>\n",
    "  <mi mathvariant=\"normal\">&#x0025;<!-- % --></mi>\n",
    "</math>"
   ]
  },
  {
   "cell_type": "markdown",
   "id": "87a55fa7-8a68-46aa-b634-a026467244a3",
   "metadata": {},
   "source": [
    "### Problems with CPI\n",
    "\n",
    "- Substitution bias<br>As prices increase for the fixed market basket, consumers buy less of these products and more substitutes that may not be part of the market basket.\n",
    "    - CPI may be higher than what consumers are really paying.\n",
    "- New product<br>CPI market basket may not include the newest consumer products.\n",
    "    - CPI measures prices but not the increase in choices.\n",
    "- Product quality<br>CPI ignores both improvements and decline in product quality, e.g. IPhone 15 vs. IPhone 4.\n",
    "    - CPI may suggest that prices stay the same though the economic well being has improved significantly."
   ]
  },
  {
   "cell_type": "markdown",
   "id": "cb7d5d3c-5503-424f-a320-decc05f2103a",
   "metadata": {},
   "source": [
    "### GDP Deflator\n",
    "\n",
    "GDP deflator\n",
    ": Measures the changes in prices for all the goods and services produced in an economy.\n",
    "\n",
    "\n",
    "<math xmlns=\"http://www.w3.org/1998/Math/MathML\">\n",
    "  <mtext>GDP Deflator</mtext>\n",
    "  <mo>=</mo>\n",
    "  <mfrac>\n",
    "    <mtext>GDP</mtext>\n",
    "    <mtext>Real GDP</mtext>\n",
    "  </mfrac>\n",
    "  <mo>&#x00D7;<!-- × --></mo>\n",
    "  <mn>100</mn>\n",
    "</math><br><br>\n",
    "\n",
    "<math xmlns=\"http://www.w3.org/1998/Math/MathML\">\n",
    "  <mtext>Real GDP</mtext>\n",
    "  <mo>=</mo>\n",
    "  <mfrac>\n",
    "    <mtext>GDP</mtext>\n",
    "    <mtext>GDP Deflator</mtext>\n",
    "  </mfrac>\n",
    "  <mo>&#x00D7;<!-- × --></mo>\n",
    "  <mn>100</mn>\n",
    "</math>"
   ]
  },
  {
   "cell_type": "markdown",
   "id": "58f22712-d788-4dba-9482-bfc7cb6dd47e",
   "metadata": {},
   "source": [
    "```{admonition} CPI vs. GDP deflator\n",
    "\n",
    "- GDP deflator ignores the price increase of imports.\n",
    "- CPI ignores price changes of nonconsumer items.\n",
    "\n",
    "\n",
    "They do not differ markedly.\n",
    "```"
   ]
  }
 ],
 "metadata": {
  "kernelspec": {
   "display_name": "Python 3 (ipykernel)",
   "language": "python",
   "name": "python3"
  },
  "language_info": {
   "codemirror_mode": {
    "name": "ipython",
    "version": 3
   },
   "file_extension": ".py",
   "mimetype": "text/x-python",
   "name": "python",
   "nbconvert_exporter": "python",
   "pygments_lexer": "ipython3",
   "version": "3.8.13"
  }
 },
 "nbformat": 4,
 "nbformat_minor": 5
}