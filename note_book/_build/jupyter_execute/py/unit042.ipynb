{
 "cells": [
  {
   "cell_type": "markdown",
   "id": "3105b83a-ac9d-44b7-8772-5abd469240f0",
   "metadata": {},
   "source": [
    "# Nominal vs. Real Interest Rate"
   ]
  },
  {
   "cell_type": "markdown",
   "id": "f58864a4-dff9-41b3-b387-2a9cd0d67c47",
   "metadata": {},
   "source": [
    "Nominal interest rate\n",
    ": Percentage increase in money that the borrower pays (not adjusted for inflation).\n",
    "<br>\n",
    "\n",
    "Real interest rate\n",
    ": Percentage increase in purchasing power that a borrower pays (adjusted for inflation).\n",
    "<br><br>\n",
    "**Nominal interest rate = Real interest rate + Inflation rate**"
   ]
  },
  {
   "cell_type": "markdown",
   "id": "279e4a02-07c2-4f06-b9e6-d99e613fa733",
   "metadata": {},
   "source": [
    "Example<br>\n",
    "If the nominal interest rate is 10% and the inflation rate is 15%, how much is the real interest rate?<br><br>\n",
    "Real interest rate = 10% - 15% = -5%. So, the lender is losing purchasing power in this case."
   ]
  }
 ],
 "metadata": {
  "kernelspec": {
   "display_name": "Python 3 (ipykernel)",
   "language": "python",
   "name": "python3"
  },
  "language_info": {
   "codemirror_mode": {
    "name": "ipython",
    "version": 3
   },
   "file_extension": ".py",
   "mimetype": "text/x-python",
   "name": "python",
   "nbconvert_exporter": "python",
   "pygments_lexer": "ipython3",
   "version": "3.8.13"
  }
 },
 "nbformat": 4,
 "nbformat_minor": 5
}