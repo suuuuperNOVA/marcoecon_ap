{
 "cells": [
  {
   "cell_type": "markdown",
   "id": "c7237df2-8adc-4aa0-b932-5012f6f36518",
   "metadata": {},
   "source": [
    "# Money Growth and Inflation"
   ]
  },
  {
   "cell_type": "markdown",
   "id": "d2a459be-fd05-40f3-9c43-8db976444dba",
   "metadata": {},
   "source": [
    "## Quantity Theory of Money"
   ]
  },
  {
   "cell_type": "markdown",
   "id": "f5c5fd36-7c67-4520-adb0-a922743cc1be",
   "metadata": {},
   "source": [
    "<math xmlns=\"http://www.w3.org/1998/Math/MathML\">\n",
    "  <mi>M</mi>\n",
    "  <mo>&#x00D7;<!-- × --></mo>\n",
    "  <mi>V</mi>\n",
    "  <mo>=</mo>\n",
    "  <mi>P</mi>\n",
    "  <mo>&#x00D7;<!-- × --></mo>\n",
    "  <mi>Y</mi>\n",
    "  <mo>=</mo>\n",
    "  <mtext>Nominal GDP</mtext>\n",
    "</math>"
   ]
  },
  {
   "cell_type": "markdown",
   "id": "975df581-11b0-4df0-91d3-1173b5239755",
   "metadata": {},
   "source": [
    "where M is the money supply (M1 or M2); V is the velocity of money; P is the price level; Y is the quantity of output or real GDP."
   ]
  },
  {
   "cell_type": "markdown",
   "id": "6a0e0b66-da47-40bc-bed7-c193c74f56b2",
   "metadata": {},
   "source": [
    "Velocity of money\n",
    ": \\# of times the typical dollar of M1 or M2 is used to make purchases during a year."
   ]
  },
  {
   "cell_type": "markdown",
   "id": "5ef34002-e406-4c77-9bc8-99c60f5b9b94",
   "metadata": {},
   "source": [
    "> We assume the velocity of money (v) and the real GDP are constant. The increase in the money supply (M) makes the inflation."
   ]
  },
  {
   "cell_type": "markdown",
   "id": "d4b5a714-73db-4532-8134-90c721dbe214",
   "metadata": {},
   "source": [
    "- When the economy is at full employment, changes in the money supply have no effect on real output in the long run.\n",
    "- In the long run, the growth rate of the money supply determines the growth rate of the price level (inflation rate) according to the quantity theory of money."
   ]
  }
 ],
 "metadata": {
  "kernelspec": {
   "display_name": "Python 3 (ipykernel)",
   "language": "python",
   "name": "python3"
  },
  "language_info": {
   "codemirror_mode": {
    "name": "ipython",
    "version": 3
   },
   "file_extension": ".py",
   "mimetype": "text/x-python",
   "name": "python",
   "nbconvert_exporter": "python",
   "pygments_lexer": "ipython3",
   "version": "3.8.13"
  }
 },
 "nbformat": 4,
 "nbformat_minor": 5
}