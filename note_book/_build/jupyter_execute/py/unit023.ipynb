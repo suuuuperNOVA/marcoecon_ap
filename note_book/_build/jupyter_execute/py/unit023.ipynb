{
 "cells": [
  {
   "cell_type": "markdown",
   "id": "82512fcc-cc7f-4fa8-b141-dd065d7f37a2",
   "metadata": {},
   "source": [
    "# Unemployment"
   ]
  },
  {
   "cell_type": "markdown",
   "id": "ec0545a7-f96d-4aaa-9cfb-9cc09a641d3e",
   "metadata": {},
   "source": [
    "```{admonition} Definitions\n",
    "Labor force\n",
    ": People age 16 and older who are employed or actively seeking employment (willing to work).\n",
    ": Not institutionalized (in jails or hospitals).\n",
    ": Not in military, in school full time, to retired.<br><br>\n",
    "\n",
    "Labor force participation rate\n",
    ": <math xmlns=\"http://www.w3.org/1998/Math/MathML\">\n",
    "  <mfrac>\n",
    "    <mtext>Labor Force</mtext>\n",
    "    <mtext>Population</mtext>\n",
    "  </mfrac>\n",
    "</math>\n",
    "\n",
    "Unemployment\n",
    ": Workers that are actively looking for a job but aren’t working.<br><br>\n",
    "\n",
    "Unemployment rate\n",
    ": <math xmlns=\"http://www.w3.org/1998/Math/MathML\">\n",
    "  <mfrac>\n",
    "    <mrow>\n",
    "      <mi mathvariant=\"normal\">&#x0023;<!-- # --></mi>\n",
    "      <mtext>&#xA0;of Unemployed</mtext>\n",
    "    </mrow>\n",
    "    <mtext>Labor Force</mtext>\n",
    "  </mfrac>\n",
    "</math>\n",
    "```"
   ]
  },
  {
   "cell_type": "markdown",
   "id": "44b3d979-dddc-43fc-9b4a-bfa1f93758cd",
   "metadata": {},
   "source": [
    "## Types of Unemployment"
   ]
  },
  {
   "cell_type": "markdown",
   "id": "cd1c5e05-401c-49b1-aff4-e4edda37a3ed",
   "metadata": {},
   "source": [
    "Unemployment means wasting resources. We are producing inside the PPC. It is a problem during recessions when real GDP is declining.\n",
    "\n",
    "**Frictional unemployment**<br>\n",
    "Frictional unemployment involves people transitioning between jobs; it has nothing to do with the economic cycle and is voluntary. It is the result of workers searching for new employment or transitioning from their old jobs to new ones.<br>\n",
    "\n",
    "**Structural unemployment**<br>\n",
    "Structural unemployment is a type of long-term unemployment caused by shifts in the economy. It occurs when there is an oversupply of jobs and people who are willing to work them, but those people are not qualified to do so. Workers must learn new skills to get a job. One of the reasons behind structural unemployment is technological advances, which can cause some types of skilled laborers to become obsolete.<br>\n",
    "\n",
    "**Cyclical unemployment**<br>\n",
    "Unemployment caused by a recession. As demand for goods and services falls, demand for labor falls and workers are laid off.<br>\n",
    "\n",
    "**Seasonal unemployment**<br>\n",
    "People who work in seasonal jobs become unemployed.<br>e.g. ski coach<br>\n",
    "\n",
    "**Discouraged workers/Hidden unemployment**<br>\n",
    "People who are able to work, but not actively seeking employment because they are discouraged about their prospects for finding employment. They are not included in the labor force.<br>\n",
    "\n",
    "**Underemployed workers**\n",
    "- Someone who wants more hours but cannot get them.\n",
    "- Someone who has some skills but is doing some basic work."
   ]
  },
  {
   "cell_type": "markdown",
   "id": "c1d0d7ab-2cbc-43c8-9412-e3709cc5e249",
   "metadata": {},
   "source": [
    "> The unemployment rate **understates** because it does not include hidden unemployment and underemployed cases."
   ]
  },
  {
   "cell_type": "markdown",
   "id": "06bd17af-b6a7-4eed-9e1a-17a3f2e049bc",
   "metadata": {},
   "source": [
    "## Natural Rate of Unemployment\n",
    "\n",
    "Frictional and structural unemployment are present at all times because some people will always be between jobs or replaced by technology. So, the economy is doing great if there is only frictional and structural unemployment.<br><br>\n",
    "\n",
    "**Natural rate of unemployment (NRU) = Frictional Unemployment Rate + Structural Unemployment Rate**<br><br>\n",
    "\n",
    "> Full employment is when **unemployment rate = natural rate of unemployment**."
   ]
  },
  {
   "cell_type": "markdown",
   "id": "3285e486-cf24-4da2-9957-646d6115bf0b",
   "metadata": {},
   "source": [
    "NRU is different in countries, depending on incentive to find a new job. If the unemployment benefits are good, people have no incentive to find a new one."
   ]
  },
  {
   "cell_type": "markdown",
   "id": "c184ec2c-7524-4913-b758-dcb344de859e",
   "metadata": {},
   "source": [
    "### NRU on PPC\n",
    "- Unemployment rate = NRU\n",
    "    - Operates on PPC\n",
    "    - Efficient\n",
    "- Unemployment rate < NRU\n",
    "    - Operates outside PPC\n",
    "    - In a boom\n",
    "- Unemployment rate > NRU\n",
    "    - Operates under PPC\n",
    "    - In a recession    "
   ]
  }
 ],
 "metadata": {
  "kernelspec": {
   "display_name": "Python 3 (ipykernel)",
   "language": "python",
   "name": "python3"
  },
  "language_info": {
   "codemirror_mode": {
    "name": "ipython",
    "version": 3
   },
   "file_extension": ".py",
   "mimetype": "text/x-python",
   "name": "python",
   "nbconvert_exporter": "python",
   "pygments_lexer": "ipython3",
   "version": "3.8.13"
  }
 },
 "nbformat": 4,
 "nbformat_minor": 5
}