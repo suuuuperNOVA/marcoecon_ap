{
 "cells": [
  {
   "cell_type": "markdown",
   "id": "66e08ad2-0bca-4d4c-bdd6-d3b8aefde1eb",
   "metadata": {},
   "source": [
    "# Multipliers"
   ]
  },
  {
   "cell_type": "markdown",
   "id": "0007028a-6f58-46fe-a30f-fb527027cbff",
   "metadata": {},
   "source": [
    "An initial change in spending will set off a spending chain that is magnified in the economy.<br>\n",
    "\n",
    "Example<br>\n",
    "\n",
    "1. Bob spent \\$100 on Jason's product. \n",
    "1. Jason had more income, so he bought \\$100 of Nancy's product.\n",
    "1. Nancy had more income, so she bought \\$100 of Eddy's product.\n",
    "\n",
    "In all, there was \\$300 increase in consumer spending, which is called **multiplier effect**.\n",
    "\n",
    "\n",
    "Multiplier effect\n",
    ": Spending is magnified in the economy.\n",
    ": How much is magnified depends on the amount people spend or save."
   ]
  },
  {
   "cell_type": "markdown",
   "id": "aecdb098-c6a0-4a0d-ab68-43b18b26c294",
   "metadata": {},
   "source": [
    "## Marginal Propensity to Consume"
   ]
  },
  {
   "cell_type": "markdown",
   "id": "e4e43168-a95b-4ec8-869c-0d19747c0c36",
   "metadata": {},
   "source": [
    "Marginal propensity to consume/MPC\n",
    ": How much people consume rather than save when there is a change in disposable income.\n",
    ": <math xmlns=\"http://www.w3.org/1998/Math/MathML\">\n",
    "  <mi>M</mi>\n",
    "  <mi>P</mi>\n",
    "  <mi>C</mi>\n",
    "  <mo>=</mo>\n",
    "  <mfrac>\n",
    "    <mrow>\n",
    "      <mi mathvariant=\"normal\">&#x0394;<!-- Δ --></mi>\n",
    "      <mi>C</mi>\n",
    "      <mi>o</mi>\n",
    "      <mi>n</mi>\n",
    "      <mi>s</mi>\n",
    "      <mi>u</mi>\n",
    "      <mi>m</mi>\n",
    "      <mi>p</mi>\n",
    "      <mi>t</mi>\n",
    "      <mi>i</mi>\n",
    "      <mi>o</mi>\n",
    "      <mi>n</mi>\n",
    "    </mrow>\n",
    "    <mrow>\n",
    "      <mi mathvariant=\"normal\">&#x0394;<!-- Δ --></mi>\n",
    "      <mi>I</mi>\n",
    "      <mi>n</mi>\n",
    "      <mi>c</mi>\n",
    "      <mi>o</mi>\n",
    "      <mi>m</mi>\n",
    "      <mi>e</mi>\n",
    "    </mrow>\n",
    "  </mfrac>\n",
    "</math>"
   ]
  },
  {
   "cell_type": "markdown",
   "id": "db43e508-d11e-4e4b-9542-b8c093b314bc",
   "metadata": {},
   "source": [
    "Example<br>\n",
    "If Jason received \\$100 and spent \\$50, MPC = 50/100 = 0.5.<br>\n",
    "If Jason received \\$100 and spent \\$80, MPC = 80/100 = 0.8."
   ]
  },
  {
   "cell_type": "markdown",
   "id": "37981f5b-a042-4b70-8585-b9eb92259d8d",
   "metadata": {},
   "source": [
    "## Marginal Propensity to Save\n",
    "\n",
    "Marginal propensity to save/MPS\n",
    ": How much people save rather than consume when there is a change in disposable income.\n",
    ": <math xmlns=\"http://www.w3.org/1998/Math/MathML\">\n",
    "  <mi>M</mi>\n",
    "  <mi>P</mi>\n",
    "  <mi>S</mi>\n",
    "  <mo>=</mo>\n",
    "  <mfrac>\n",
    "    <mrow>\n",
    "      <mi mathvariant=\"normal\">&#x0394;<!-- Δ --></mi>\n",
    "      <mi>S</mi>\n",
    "      <mi>a</mi>\n",
    "      <mi>v</mi>\n",
    "      <mi>i</mi>\n",
    "      <mi>n</mi>\n",
    "      <mi>g</mi>\n",
    "    </mrow>\n",
    "    <mrow>\n",
    "      <mi mathvariant=\"normal\">&#x0394;<!-- Δ --></mi>\n",
    "      <mi>I</mi>\n",
    "      <mi>n</mi>\n",
    "      <mi>c</mi>\n",
    "      <mi>o</mi>\n",
    "      <mi>m</mi>\n",
    "      <mi>e</mi>\n",
    "    </mrow>\n",
    "  </mfrac>\n",
    "</math>"
   ]
  },
  {
   "cell_type": "markdown",
   "id": "c5f0fad2-fd85-4745-9a3b-89e0106ba9c1",
   "metadata": {},
   "source": [
    "Example<br>\n",
    "If Jason received \\$100 and save \\$50, MPS = 50/100 = 0.5.<br>\n",
    "If Jason received \\$100 and save \\$80, MPS = 80/100 = 0.8."
   ]
  },
  {
   "cell_type": "markdown",
   "id": "c397a94f-e5f3-4af5-9a72-40825f9d0114",
   "metadata": {},
   "source": [
    "In fact, people can either save or consume. Hence, **MPS = 1 - MPC**."
   ]
  },
  {
   "cell_type": "markdown",
   "id": "db1e00a1-cdaf-41cf-a70c-aaafa2c8a0ad",
   "metadata": {},
   "source": [
    "## Expenditure/Spending Multiplier"
   ]
  },
  {
   "cell_type": "markdown",
   "id": "2bc9d744-bebe-4c7b-89cb-232e55a38438",
   "metadata": {},
   "source": [
    "<math xmlns=\"http://www.w3.org/1998/Math/MathML\">\n",
    "  <mtext>Spending Multiplier</mtext>\n",
    "  <mo>=</mo>\n",
    "  <mfrac>\n",
    "    <mn>1</mn>\n",
    "    <mrow>\n",
    "      <mi>M</mi>\n",
    "      <mi>P</mi>\n",
    "      <mi>S</mi>\n",
    "    </mrow>\n",
    "  </mfrac>\n",
    "  <mo>=</mo>\n",
    "  <mfrac>\n",
    "    <mn>1</mn>\n",
    "    <mrow>\n",
    "      <mn>1</mn>\n",
    "      <mo>&#x2212;<!-- − --></mo>\n",
    "      <mi>M</mi>\n",
    "      <mi>P</mi>\n",
    "      <mi>C</mi>\n",
    "    </mrow>\n",
    "  </mfrac>\n",
    "</math>"
   ]
  },
  {
   "cell_type": "markdown",
   "id": "90fe9f46-3bc5-46b4-98ab-967fcd8edd78",
   "metadata": {},
   "source": [
    "Example<br>\n",
    "If MPC is 0.75, the multiplier is 4. It means every dollar increase in the income will create \\$4 increase in GDP."
   ]
  },
  {
   "cell_type": "markdown",
   "id": "a4b4b042-01d6-4d17-9cbf-d743e93fd442",
   "metadata": {},
   "source": [
    "<math xmlns=\"http://www.w3.org/1998/Math/MathML\">\n",
    "  <mi mathvariant=\"normal\">&#x0394;<!-- Δ --></mi>\n",
    "  <mi>G</mi>\n",
    "  <mi>D</mi>\n",
    "  <mi>P</mi>\n",
    "  <mo>=</mo>\n",
    "  <mi>M</mi>\n",
    "  <mi>u</mi>\n",
    "  <mi>l</mi>\n",
    "  <mi>t</mi>\n",
    "  <mi>i</mi>\n",
    "  <mi>p</mi>\n",
    "  <mi>l</mi>\n",
    "  <mi>i</mi>\n",
    "  <mi>e</mi>\n",
    "  <mi>r</mi>\n",
    "  <mo>&#x00D7;<!-- × --></mo>\n",
    "  <mi mathvariant=\"normal\">&#x0394;<!-- Δ --></mi>\n",
    "  <mi>S</mi>\n",
    "  <mi>p</mi>\n",
    "  <mi>e</mi>\n",
    "  <mi>n</mi>\n",
    "  <mi>d</mi>\n",
    "  <mi>i</mi>\n",
    "  <mi>n</mi>\n",
    "  <mi>g</mi>\n",
    "</math>"
   ]
  },
  {
   "cell_type": "markdown",
   "id": "e50d8ae0-16ef-4e45-be2c-d955208fd481",
   "metadata": {},
   "source": [
    "Example<br>\n",
    "If the multiplier is 4 with an initial increase of $5 in government spending, the GDP increases by \\$20."
   ]
  },
  {
   "cell_type": "markdown",
   "id": "3ddc7332-b7b8-4f8a-9b31-fd23c3912203",
   "metadata": {},
   "source": [
    "## Effect of Tax Cuts"
   ]
  },
  {
   "cell_type": "markdown",
   "id": "543366ec-4a0a-42cd-8706-e891d1203345",
   "metadata": {},
   "source": [
    "- The multiplier effect also applies when the government cuts or increases taxes.\n",
    "- But, changing taxes has less of an impact than government spending."
   ]
  },
  {
   "cell_type": "markdown",
   "id": "ec0767c7-77e3-4100-b0f9-c37b7084cc7b",
   "metadata": {},
   "source": [
    "Example<br>\n",
    "Assume the MPC is 0.75, so the multiplier is 4. If the government cuts taxes by \\$4 million how much will consumer spending increase? (NOT 16 million!!)<br><br>\n",
    "\n",
    "- People have received \\$4 million as the tax return.\n",
    "- They only spend 75% of the tax return and save 25%. So, their spending increases by 3 million.\n",
    "- GDP will increase by 12 million (4 x 3 million)."
   ]
  }
 ],
 "metadata": {
  "kernelspec": {
   "display_name": "Python 3 (ipykernel)",
   "language": "python",
   "name": "python3"
  },
  "language_info": {
   "codemirror_mode": {
    "name": "ipython",
    "version": 3
   },
   "file_extension": ".py",
   "mimetype": "text/x-python",
   "name": "python",
   "nbconvert_exporter": "python",
   "pygments_lexer": "ipython3",
   "version": "3.8.13"
  }
 },
 "nbformat": 4,
 "nbformat_minor": 5
}