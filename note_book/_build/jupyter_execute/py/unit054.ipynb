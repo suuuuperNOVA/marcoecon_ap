{
 "cells": [
  {
   "cell_type": "markdown",
   "id": "29d57afb-4635-4417-b321-4baa7f916e55",
   "metadata": {},
   "source": [
    "# Government Deficits and the National Debt"
   ]
  },
  {
   "cell_type": "markdown",
   "id": "ff1545df-74b5-4af9-ab4d-1e33762c6535",
   "metadata": {},
   "source": [
    "Budget deficit\n",
    ": When annual government spending and transfer payments are greater than tax revenue.<br>\n",
    "\n",
    "Budget surplus\n",
    ": When annual government spending and transfer payments are less than tax revenue.<br>\n",
    "\n",
    "National debt\n",
    ": Accumulation of all the budget deficits over time. \n",
    ": If the government increases spending without increasing taxes they will increase the annual deficit and the national debt. "
   ]
  },
  {
   "cell_type": "markdown",
   "id": "c766676b-36f4-44f7-a383-85c46950d35d",
   "metadata": {},
   "source": [
    "A government must pay interest on its accumulated debt, thus increasing the national debt and increasingly forgoing using those funds for alternative uses."
   ]
  }
 ],
 "metadata": {
  "kernelspec": {
   "display_name": "Python 3 (ipykernel)",
   "language": "python",
   "name": "python3"
  },
  "language_info": {
   "codemirror_mode": {
    "name": "ipython",
    "version": 3
   },
   "file_extension": ".py",
   "mimetype": "text/x-python",
   "name": "python",
   "nbconvert_exporter": "python",
   "pygments_lexer": "ipython3",
   "version": "3.8.13"
  }
 },
 "nbformat": 4,
 "nbformat_minor": 5
}