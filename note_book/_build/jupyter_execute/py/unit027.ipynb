{
 "cells": [
  {
   "cell_type": "markdown",
   "id": "5085f4fc-ea92-4650-8b25-52b5cad1c81d",
   "metadata": {},
   "source": [
    "# Business Cycles"
   ]
  },
  {
   "cell_type": "markdown",
   "id": "3cc5fbaf-d9cd-48d8-abcb-274eeaae5189",
   "metadata": {},
   "source": [
    "Every economy experiences ups and downs; expansions and contractions. Business cycles are a type of fluctuation found in the aggregate economic activity of a nation as shown in the figure below."
   ]
  },
  {
   "cell_type": "markdown",
   "id": "747b9c66-0d89-40f7-90a9-ebfde789c442",
   "metadata": {},
   "source": [
    "<img src=\"../pic/unit027_buscy.png\" alt=\"cy\" width=\"600\"/>"
   ]
  },
  {
   "cell_type": "markdown",
   "id": "3d423a4f-d394-4dcb-a04e-4a26ab32485c",
   "metadata": {},
   "source": [
    "- The straight line is the growth trend line on which the economy is operating at full employment (unemployment rate = natural unemployment rate).\n",
    "- Peak and trough are turning points.\n",
    "- An entire business cycle is defined as a peak to the next peak or a trough to the next through.\n",
    "- When the real GDP is above the growth trend, the unemployment rate < natural unemployment rate.\n",
    "    - The gap is called **positive output gap**.\n",
    "- When the real GDP is below the growth trend, the unemployment rate > natural unemployment rate.\n",
    "    - The gap is called **negative output gap**."
   ]
  },
  {
   "cell_type": "markdown",
   "id": "a3a975a9-8d1a-479f-be75-bc8df99f0037",
   "metadata": {},
   "source": [
    "Business cycle\n",
    ": Expansion/Recovery → Peak → Contraction/Recession → Trough\n",
    ": The sequence of changes is recurrent but not periodic.<br><br>\n",
    "\n",
    "Expansion/Recovery\n",
    ": In this stage, there is an increase in positive economic indicators such as employment, income, output, wages, profits, demand, and supply of goods and services. Debtors are generally paying their debts on time, the velocity of the money supply is high, and investment is high. This process continues as long as economic conditions are favorable for expansion.<br><br>\n",
    "\n",
    "Peak\n",
    ": The economy then reaches a saturation point, or peak, which is the second stage of the business cycle. The maximum limit of growth is attained. The economic indicators do not grow further and are at their highest. Prices are at their peak. This stage marks the reversal point in the trend of economic growth. Consumers tend to restructure their budgets at this point.<br><br>\n",
    "\n",
    "Contraction/Recession\n",
    ": The recession is the stage that follows the peak phase. The demand for goods and services starts declining rapidly and steadily in this phase. Producers do not notice the decrease in demand instantly and go on producing, which creates a situation of excess supply in the market. Prices tend to fall. All positive economic indicators such as income, output, wages, etc., consequently start to fall.<br><br>\n",
    "\n",
    "Trough\n",
    ": The economy eventually reaches the trough. It is the negative saturation point for an economy. There is extensive depletion of national income and expenditure."
   ]
  }
 ],
 "metadata": {
  "kernelspec": {
   "display_name": "Python 3 (ipykernel)",
   "language": "python",
   "name": "python3"
  },
  "language_info": {
   "codemirror_mode": {
    "name": "ipython",
    "version": 3
   },
   "file_extension": ".py",
   "mimetype": "text/x-python",
   "name": "python",
   "nbconvert_exporter": "python",
   "pygments_lexer": "ipython3",
   "version": "3.8.13"
  }
 },
 "nbformat": 4,
 "nbformat_minor": 5
}