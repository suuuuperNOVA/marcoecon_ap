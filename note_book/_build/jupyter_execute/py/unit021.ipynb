{
 "cells": [
  {
   "cell_type": "markdown",
   "id": "571bf789-5771-49bd-81f9-4ff2f2b29e2a",
   "metadata": {},
   "source": [
    "# The Circular Flow and GDP"
   ]
  },
  {
   "cell_type": "markdown",
   "id": "e2ed7f3a-399c-41c5-8b4e-31809edc9f73",
   "metadata": {},
   "source": [
    "## Circular Flow\n",
    "\n",
    "In the microeconomics, we have learned that there are 2 markets: the product market and the resource market.\n",
    "- Product market<br>where the goods and services are traded.\n",
    "- Resource market<br>where the factors of productions are traded.\n",
    "\n",
    "There are more sectors in the circular flow model as shown in the figure below:\n",
    "- Households\n",
    "    - Consumers in the product market pay to the firms.\n",
    "    - Suppliers in the factor market get paid from firms.\n",
    "    - Tax payers to the government.\n",
    "- Firms\n",
    "    - Suppliers in the product market get paid from households.\n",
    "    - Consumers in the factor market pay to the households.\n",
    "        - Rent\n",
    "        - Wage\n",
    "        - Interest\n",
    "        - Profit\n",
    "    - Tax payers to the government.\n",
    "- Government\n",
    "    - Consumers in the product market.\n",
    "    - Consumers in the factor market.\n",
    "    - Tax revenue from households and firms.\n",
    "    - Subsidize firms.\n",
    "    - Give welfare to households.\n",
    "    - Provide public goods to households and firms.\n",
    "- Foreign economies\n",
    "    - Domestic firms can export goods and services to the rest of the world.\n",
    "    - Domestic households can import goods and services from the rest of the world."
   ]
  },
  {
   "cell_type": "markdown",
   "id": "d4b4a627-c18a-484d-b694-9c15d04d92d3",
   "metadata": {},
   "source": [
    "<img src=\"../pic/unit021_flow.jpg\" alt=\"pes\" width=\"600\"/>"
   ]
  },
  {
   "cell_type": "markdown",
   "id": "238a616f-48f8-4357-bc79-9156da8a35f2",
   "metadata": {},
   "source": [
    "## Approaches to Calculate GDP\n",
    "\n",
    "```{admonition} Definitions\n",
    "National Economic Accounts\n",
    ": A group of statistics that measure various aspects of the economy's performance.\n",
    ": e.g. personal income, corporate profits, GDP<br><br>\n",
    "\n",
    "Gross domestic product/GDP\n",
    ": Dollar value of all **final** goods and services produced **within a country** in one year.<br><br>\n",
    "\n",
    "GDP per capita\n",
    ": GDP per person.\n",
    "```"
   ]
  },
  {
   "cell_type": "markdown",
   "id": "c8323814-e1c7-4801-b572-b4570d36757b",
   "metadata": {},
   "source": [
    "### Expenditure Approach\n",
    "\n",
    "Based on the circular flow diagram, GDP can be estimated by adding expenditures of all households, firms, government and the money earned from trading:\n",
    "- **Consumption expenditures (C)**<br>Consumer spending including:\n",
    "    - Durable goods\n",
    "    - Non-durable goods\n",
    "    - Services\n",
    "- **Investment expenditures (I)**<br>Expenditures by business on plant and equipment (for business purposes)\n",
    "    - Change of inventories included\n",
    "        - If the goods are produced, but not sold, the goods will become inventory.\n",
    "        - When the goods are sold, the inventory will decrease.\n",
    "        - Changes in inventory will be included in GDP.\n",
    "- **Government expenditures (G)**\n",
    "    - Services provided by government.\n",
    "    - Goods and services consumed by government.\n",
    "- **Exports and imports (X)**\n",
    "    - Export - Import\n",
    "    - Imports should not be included which are not produced in the domestic.\n",
    "\n",
    "GPD by expenditure approach:<br>\n",
    "**GDP = C + I + G + X**"
   ]
  },
  {
   "cell_type": "markdown",
   "id": "96119a8d-f883-499f-b4fa-4935ef2b0d5a",
   "metadata": {},
   "source": [
    "### Income Approach\n",
    "\n",
    "Income approach is to add up all the income that was earned in the economy:\n",
    "- Rent\n",
    "- Wage\n",
    "- Interest\n",
    "- Profit\n",
    "- Indirect business taxes (business licenses)\n",
    "- Depreciation"
   ]
  },
  {
   "cell_type": "markdown",
   "id": "5a92201e-6bc9-4639-98a5-efc2ba518ed8",
   "metadata": {},
   "source": [
    "### Value Added Approach\n",
    "\n",
    "Value added approach is to add up the dollar value added at each stage of the production process."
   ]
  },
  {
   "cell_type": "markdown",
   "id": "d9ff37ec-88f2-4fb9-87db-f02cd629b8de",
   "metadata": {},
   "source": [
    "### Example\n",
    "\n",
    "Suppose there are 3 companies in an economy as shown in the figure below. National Motors who uses steel from National Steel produces the final goods, cars. National Steel uses iron ore from National Ore to produces steel.\n",
    "\n",
    "- Expenditure approach\n",
    "    - Value of the final goods\n",
    "- Income approach\n",
    "    - Add up all the income\n",
    "- Value added approach\n",
    "    - National Ore\n",
    "        - Value generated by producing iron ore is \\$4,200.\n",
    "    - National Steel\n",
    "        - Value generated by producing steel is \\$9,000 - \\$4,200.\n",
    "            - National Steel uses the intermediate goods (iron ore) from National Ore.\n",
    "            - Value of National Ore is deducted.\n",
    "    - National Motors\n",
    "        -  Value generated by producing cars is \\$21,500 - \\$9,000.\n",
    "            - National Motors uses the intermediate goods (steel) from National Steel.\n",
    "            - Value of National Steel is deducted.\n",
    "\n",
    "Finally, each of these methods should generate the same number."
   ]
  },
  {
   "cell_type": "markdown",
   "id": "37e66fdb-2c32-499f-8a00-1dd87ffd9851",
   "metadata": {},
   "source": [
    "<img src=\"../pic/unit021_gdpex.png\" alt=\"gdp\" width=\"600\"/>"
   ]
  },
  {
   "cell_type": "markdown",
   "id": "4fe0927b-e15f-481e-bdbf-7eec7033d5a3",
   "metadata": {},
   "source": [
    "### Items NOT Included in GDP\n",
    "\n",
    "- Intermediate goods<br>Iron ore and steel in the example\n",
    "- Nonproduction transactions\n",
    "    - Financial transactions<br>e.g. stocks, bonds, real estate<br>But the **commission fee** of financial transactions is **included** because it is financial service.\n",
    "    - Used goods\n",
    "    - **Transfer payment**<br>e.g. social security and unemployment insurance.\n",
    "- Nonmarket activities<br>e.g. household production, unpaid work\n",
    "- Illegal activities"
   ]
  },
  {
   "cell_type": "markdown",
   "id": "b5f9e6fa-0233-477d-8214-214690190ba2",
   "metadata": {},
   "source": [
    "Transfer payment\n",
    ": Payment of money for which there are no goods or services exchanged.\n",
    ": Government payments to individuals through social programs such as welfare, student grants, and even Social Security."
   ]
  }
 ],
 "metadata": {
  "kernelspec": {
   "display_name": "Python 3 (ipykernel)",
   "language": "python",
   "name": "python3"
  },
  "language_info": {
   "codemirror_mode": {
    "name": "ipython",
    "version": 3
   },
   "file_extension": ".py",
   "mimetype": "text/x-python",
   "name": "python",
   "nbconvert_exporter": "python",
   "pygments_lexer": "ipython3",
   "version": "3.8.13"
  }
 },
 "nbformat": 4,
 "nbformat_minor": 5
}