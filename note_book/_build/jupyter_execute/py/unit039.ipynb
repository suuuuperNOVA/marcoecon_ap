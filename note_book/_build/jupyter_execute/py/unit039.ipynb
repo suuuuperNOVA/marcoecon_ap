{
 "cells": [
  {
   "cell_type": "markdown",
   "id": "160778f7-d058-45da-bd34-39a33b7709e3",
   "metadata": {},
   "source": [
    "# Automatic Stabilizers"
   ]
  },
  {
   "cell_type": "code",
   "execution_count": null,
   "id": "22227565-411d-4976-bb1e-df43fc1f8056",
   "metadata": {},
   "outputs": [],
   "source": []
  }
 ],
 "metadata": {
  "kernelspec": {
   "display_name": "Python 3 (ipykernel)",
   "language": "python",
   "name": "python3"
  },
  "language_info": {
   "codemirror_mode": {
    "name": "ipython",
    "version": 3
   },
   "file_extension": ".py",
   "mimetype": "text/x-python",
   "name": "python",
   "nbconvert_exporter": "python",
   "pygments_lexer": "ipython3",
   "version": "3.8.13"
  }
 },
 "nbformat": 4,
 "nbformat_minor": 5
}