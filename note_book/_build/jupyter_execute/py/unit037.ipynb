{
 "cells": [
  {
   "cell_type": "markdown",
   "id": "8030a1e0-3152-41eb-85d7-de5100125d9b",
   "metadata": {},
   "source": [
    "# Long-Run Self-Adjustment"
   ]
  },
  {
   "cell_type": "markdown",
   "id": "7d13eb67-116a-4167-a802-596252da98ca",
   "metadata": {},
   "source": [
    "> In the long run, in the absence of government policy actions, flexible wages and prices will adjust to restore full employment and unemployment will revert to its natural rate after a shock to aggregate demand or short-run aggregate supply."
   ]
  },
  {
   "cell_type": "markdown",
   "id": "cfa12e82-1e0e-4970-b6c7-6fb155eadf8e",
   "metadata": {},
   "source": [
    "## Demand-Pull Inflation"
   ]
  },
  {
   "cell_type": "markdown",
   "id": "d559423e-e92f-4f0d-84d7-42d7b29af918",
   "metadata": {},
   "source": [
    "The figure below shows a **long-run increase in AD**:\n",
    "- If there is an increase in AD, the short-run equilibrium point will move from the yellow point to the red one;\n",
    "- The red point is right to LRAS, meaning that the unemployment rate is lower than the natural unemployment rate (out of PPC);\n",
    "- Meanwhile, the price level increases from PLe to PL1.\n",
    "- In the long run, wages and costs increase;\n",
    "- SRAS shifts to SRAS1, reaching a new long-run equilibrium point (white);\n",
    "- At the white point, the unemployment rate equals NUR (on PPC)."
   ]
  },
  {
   "cell_type": "markdown",
   "id": "247d20c1-2be9-4fcd-bbf9-38f4a1389435",
   "metadata": {},
   "source": [
    "LRAS is unchanged and the real GDP is also unchanged, but the price level increases. This is a cause of inflation."
   ]
  },
  {
   "cell_type": "markdown",
   "id": "a8a756b5-edad-44d8-b4f2-c7ff3eef29c9",
   "metadata": {},
   "source": [
    "<img src=\"../pic/unit037_adshift.png\" alt=\"adshift\" width=\"700\"/>"
   ]
  },
  {
   "cell_type": "markdown",
   "id": "3383730f-a7a9-4af3-9b2b-9983db07a4ef",
   "metadata": {},
   "source": [
    "## Decrease in AD"
   ]
  },
  {
   "cell_type": "markdown",
   "id": "0f034bc4-633f-42e9-bbac-13127af2f3d0",
   "metadata": {},
   "source": [
    "The figure below shows a recession caused by a long-run decrease in AD:\n",
    "- If there is a decrease in AD, the equilibrium point moves from Ef to E2;\n",
    "- Real GDP decreases from Yf to Y2;\n",
    "- The price level decreases from Pf to P2;\n",
    "- The decrease in price level makes the resource cost decrease and shifts SRAS to the right;\n",
    "- Finally, reaching a new long-run equilibrium point E3."
   ]
  },
  {
   "cell_type": "markdown",
   "id": "76302d30-7333-42b1-af3a-bf70bd5e73d4",
   "metadata": {},
   "source": [
    "<img src=\"../pic/unit037_adshiftneg.png\" alt=\"adshiftneg\" width=\"400\"/>"
   ]
  },
  {
   "cell_type": "markdown",
   "id": "d67aba6d-113c-4bc0-a294-f55d0714db34",
   "metadata": {},
   "source": [
    "## Economic Growth"
   ]
  },
  {
   "cell_type": "markdown",
   "id": "a368ef7c-bdc0-4d1e-af6d-ccd291093363",
   "metadata": {},
   "source": [
    "Economic growth can be obtained by:\n",
    "- More resources\n",
    "- Technological enhancement.\n",
    "\n",
    "Either of these occurrences shifts both LRAS and SRAS to the right. Meanwhile, the PPC shifts outward."
   ]
  }
 ],
 "metadata": {
  "kernelspec": {
   "display_name": "Python 3 (ipykernel)",
   "language": "python",
   "name": "python3"
  },
  "language_info": {
   "codemirror_mode": {
    "name": "ipython",
    "version": 3
   },
   "file_extension": ".py",
   "mimetype": "text/x-python",
   "name": "python",
   "nbconvert_exporter": "python",
   "pygments_lexer": "ipython3",
   "version": "3.8.13"
  }
 },
 "nbformat": 4,
 "nbformat_minor": 5
}