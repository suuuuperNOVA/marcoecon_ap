{
 "cells": [
  {
   "cell_type": "markdown",
   "id": "778bbfbe-53b2-4703-93fb-f6005615646e",
   "metadata": {},
   "source": [
    "# Economic Indicators and the Business Cycle"
   ]
  },
  {
   "cell_type": "markdown",
   "id": "808334f8-b085-43a9-ad49-b933d8cfd7e9",
   "metadata": {},
   "source": [
    "```{note}\n",
    "The 3 targets of a government are\n",
    "- Prompting the economic growth,\n",
    "- Stablizing the price level,\n",
    "- Keeping a low unemployment rate.\n",
    "\n",
    "In this unit, we are going to learn various economic indicators and the business cycle.\n",
    "```"
   ]
  }
 ],
 "metadata": {
  "kernelspec": {
   "display_name": "Python 3 (ipykernel)",
   "language": "python",
   "name": "python3"
  },
  "language_info": {
   "codemirror_mode": {
    "name": "ipython",
    "version": 3
   },
   "file_extension": ".py",
   "mimetype": "text/x-python",
   "name": "python",
   "nbconvert_exporter": "python",
   "pygments_lexer": "ipython3",
   "version": "3.8.13"
  }
 },
 "nbformat": 4,
 "nbformat_minor": 5
}