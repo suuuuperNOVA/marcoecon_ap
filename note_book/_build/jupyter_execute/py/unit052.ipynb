{
 "cells": [
  {
   "cell_type": "markdown",
   "id": "e1ca3e9a-055d-49f5-8d3c-01181ca94ba2",
   "metadata": {},
   "source": [
    "# The Phillips Curve"
   ]
  },
  {
   "cell_type": "markdown",
   "id": "604173f6-7abf-437e-8314-4929ec768d21",
   "metadata": {},
   "source": [
    "The Phillips curve model is used to represent the relationship between inflation and unemployment and to illustrate how macroeconomic shocks affect inflation and unemployment."
   ]
  },
  {
   "cell_type": "markdown",
   "id": "b5e2d828-7e42-40b7-bad0-d495cc6bbdcf",
   "metadata": {},
   "source": [
    "```{admonition} Relationship between inflation and unemployment\n",
    "Inflation and unemployment move in opposite directions.\n",
    "- The higher the inflation rate, the lower the unemployment rate.\n",
    "- The lower the inflation rate, the higher the unemployment rate.<br><br>\n",
    "\n",
    "The figure below shows the Phillips curve, the tradeoff between inflation and unemployment.\n",
    "\n",
    "<img src='../pic/unit052_philips.png' alt='philips' width='400'/>\n",
    "```"
   ]
  },
  {
   "cell_type": "markdown",
   "id": "6e71f0e9-f980-4c7f-871b-2206fab498dd",
   "metadata": {},
   "source": [
    "## Effects of AD Shifts"
   ]
  },
  {
   "cell_type": "markdown",
   "id": "1304dc3c-4270-42ac-808d-f9372fe03e48",
   "metadata": {},
   "source": [
    "- If AD shifts right, the economy slides up the **short-run** Phillips curve.\n",
    "- If AD shifts left, the economy slides down the **short-run** Phillips curve."
   ]
  },
  {
   "cell_type": "markdown",
   "id": "c90facda-58d6-4f79-ab1a-6a20dd2266a4",
   "metadata": {
    "tags": []
   },
   "source": [
    "<img src='../pic/unit052_ad.png' alt='ad' width='600'/>"
   ]
  },
  {
   "cell_type": "markdown",
   "id": "781d0bd5-8b61-41a4-a63b-e8487796011d",
   "metadata": {},
   "source": [
    "- In the long run, the shift of AD does not change the **long-run** Phillips curve, which is vertical at the natural rate of unemployment.\n",
    "- Factors that cause the natural rate of unemployment to change will cause the LRPC to shift.\n",
    "- Points to the left of long-run equilibrium represent inflationary gaps, while points to the right of long-run equilibrium represent recessionary gaps."
   ]
  },
  {
   "cell_type": "markdown",
   "id": "da0d78ea-cca0-4296-8f9e-dec8122edb55",
   "metadata": {},
   "source": [
    "<img src='../pic/unit052_lr.png' alt='lr' width='600'/>"
   ]
  },
  {
   "cell_type": "markdown",
   "id": "83e407cc-1039-43d9-92d3-cb602948a675",
   "metadata": {},
   "source": [
    "## Effects of SRAS Shifts"
   ]
  },
  {
   "cell_type": "markdown",
   "id": "26b56afb-116c-4594-a3a4-448fc0e34222",
   "metadata": {},
   "source": [
    "- If SRAS shifts left, the **short-run** Phillips curve shifts right.\n",
    "- If SRAS shifts right, the **short-run** Phillips curve shifts left."
   ]
  },
  {
   "cell_type": "markdown",
   "id": "9addbe19-7bf6-4d80-8467-1ea0fd05330d",
   "metadata": {},
   "source": [
    "<img src='../pic/unit052_as.png' alt='as' width='600'/>"
   ]
  }
 ],
 "metadata": {
  "kernelspec": {
   "display_name": "Python 3 (ipykernel)",
   "language": "python",
   "name": "python3"
  },
  "language_info": {
   "codemirror_mode": {
    "name": "ipython",
    "version": 3
   },
   "file_extension": ".py",
   "mimetype": "text/x-python",
   "name": "python",
   "nbconvert_exporter": "python",
   "pygments_lexer": "ipython3",
   "version": "3.8.13"
  }
 },
 "nbformat": 4,
 "nbformat_minor": 5
}