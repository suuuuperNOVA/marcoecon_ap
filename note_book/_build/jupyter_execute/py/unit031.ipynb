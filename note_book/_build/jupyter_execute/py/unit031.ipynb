{
 "cells": [
  {
   "cell_type": "markdown",
   "id": "3e1d7e9b-6eb5-482a-aa01-d4347e05905b",
   "metadata": {},
   "source": [
    "# Aggregate Demand (AD)"
   ]
  },
  {
   "cell_type": "markdown",
   "id": "5d9a9749-3ac6-4ee1-9cbe-baa660528070",
   "metadata": {},
   "source": [
    "Aggregate demand/AD\n",
    ": Amount of goods and services demanded by households, business, governments, and foreigners.\n",
    ": Demand for all final goods and services by everyone.\n",
    ": The x-axis is output (not quantity), which is easured in **dollars**.\n",
    ": **AD = C + I + G + (X - M)**\n",
    ": e.g. demand for everything by everyone in the US."
   ]
  },
  {
   "cell_type": "markdown",
   "id": "ede1907c-f9b6-41e6-9927-41ecbdb11391",
   "metadata": {},
   "source": [
    "> Similar to the demand curve in microeconomics, AD is also **downward sloping**.<br>\n",
    "> Recall that we learned that output can be measured by **real GDP**.<br>\n",
    "> So, there is an inverse relationship between **price level** and **real GDP demanded** as shown in the figure below."
   ]
  },
  {
   "cell_type": "code",
   "execution_count": 1,
   "id": "94424057-0a27-4fa5-a7b1-748762878faf",
   "metadata": {
    "jupyter": {
     "source_hidden": true
    },
    "tags": [
     "remove-input"
    ]
   },
   "outputs": [],
   "source": [
    "import pandas as pd\n",
    "import altair as alt"
   ]
  },
  {
   "cell_type": "code",
   "execution_count": 2,
   "id": "9e004b83-063a-4091-bd60-b7c00ee5e813",
   "metadata": {
    "jupyter": {
     "source_hidden": true
    },
    "tags": [
     "remove-input"
    ]
   },
   "outputs": [],
   "source": [
    "df = pd.DataFrame(data={'price': [2.5, 2, 1.5, 1], 'quantity':[1,2,3,4]})\n",
    "\n",
    "fig1 = alt.Chart(df).mark_line(point=alt.OverlayMarkDef(filled=False, fill='white')).encode(\n",
    "    alt.X('quantity', title='Real GDP', scale=alt.Scale(domain=[0,5])),\n",
    "    alt.Y('price', title='Price Level', scale=alt.Scale(domain=[0,3])),\n",
    ").properties(title='Aggregate Demand')\n",
    "\n",
    "text1 = alt.Chart({'values':[{'x': 4.25, 'y': 1}]}).mark_text(\n",
    "    text='AD',\n",
    "    fontSize=15\n",
    ").encode(x='x:Q', y='y:Q')"
   ]
  },
  {
   "cell_type": "code",
   "execution_count": 3,
   "id": "881ba290-509d-436f-8009-4233943d85df",
   "metadata": {
    "jupyter": {
     "source_hidden": true
    },
    "tags": [
     "remove-input"
    ]
   },
   "outputs": [
    {
     "data": {
      "text/html": [
       "\n",
       "<div id=\"altair-viz-5da00da21dfd4e959cd1baf8d773c519\"></div>\n",
       "<script type=\"text/javascript\">\n",
       "  (function(spec, embedOpt){\n",
       "    let outputDiv = document.currentScript.previousElementSibling;\n",
       "    if (outputDiv.id !== \"altair-viz-5da00da21dfd4e959cd1baf8d773c519\") {\n",
       "      outputDiv = document.getElementById(\"altair-viz-5da00da21dfd4e959cd1baf8d773c519\");\n",
       "    }\n",
       "    const paths = {\n",
       "      \"vega\": \"https://cdn.jsdelivr.net/npm//vega@5?noext\",\n",
       "      \"vega-lib\": \"https://cdn.jsdelivr.net/npm//vega-lib?noext\",\n",
       "      \"vega-lite\": \"https://cdn.jsdelivr.net/npm//vega-lite@4.8.1?noext\",\n",
       "      \"vega-embed\": \"https://cdn.jsdelivr.net/npm//vega-embed@6?noext\",\n",
       "    };\n",
       "\n",
       "    function loadScript(lib) {\n",
       "      return new Promise(function(resolve, reject) {\n",
       "        var s = document.createElement('script');\n",
       "        s.src = paths[lib];\n",
       "        s.async = true;\n",
       "        s.onload = () => resolve(paths[lib]);\n",
       "        s.onerror = () => reject(`Error loading script: ${paths[lib]}`);\n",
       "        document.getElementsByTagName(\"head\")[0].appendChild(s);\n",
       "      });\n",
       "    }\n",
       "\n",
       "    function showError(err) {\n",
       "      outputDiv.innerHTML = `<div class=\"error\" style=\"color:red;\">${err}</div>`;\n",
       "      throw err;\n",
       "    }\n",
       "\n",
       "    function displayChart(vegaEmbed) {\n",
       "      vegaEmbed(outputDiv, spec, embedOpt)\n",
       "        .catch(err => showError(`Javascript Error: ${err.message}<br>This usually means there's a typo in your chart specification. See the javascript console for the full traceback.`));\n",
       "    }\n",
       "\n",
       "    if(typeof define === \"function\" && define.amd) {\n",
       "      requirejs.config({paths});\n",
       "      require([\"vega-embed\"], displayChart, err => showError(`Error loading script: ${err.message}`));\n",
       "    } else if (typeof vegaEmbed === \"function\") {\n",
       "      displayChart(vegaEmbed);\n",
       "    } else {\n",
       "      loadScript(\"vega\")\n",
       "        .then(() => loadScript(\"vega-lite\"))\n",
       "        .then(() => loadScript(\"vega-embed\"))\n",
       "        .catch(showError)\n",
       "        .then(() => displayChart(vegaEmbed));\n",
       "    }\n",
       "  })({\"config\": {\"view\": {\"continuousWidth\": 400, \"continuousHeight\": 300}}, \"layer\": [{\"data\": {\"name\": \"data-3bb4ac9dddd344f457e8b14244109206\"}, \"mark\": {\"type\": \"line\", \"point\": {\"fill\": \"white\", \"filled\": false}}, \"encoding\": {\"x\": {\"type\": \"quantitative\", \"field\": \"quantity\", \"scale\": {\"domain\": [0, 5]}, \"title\": \"Real GDP\"}, \"y\": {\"type\": \"quantitative\", \"field\": \"price\", \"scale\": {\"domain\": [0, 3]}, \"title\": \"Price Level\"}}, \"title\": \"Aggregate Demand\"}, {\"data\": {\"name\": \"data-410e80302710624b5125e992bf68d3d3\"}, \"mark\": {\"type\": \"text\", \"fontSize\": 15, \"text\": \"AD\"}, \"encoding\": {\"x\": {\"type\": \"quantitative\", \"field\": \"x\"}, \"y\": {\"type\": \"quantitative\", \"field\": \"y\"}}}], \"$schema\": \"https://vega.github.io/schema/vega-lite/v4.8.1.json\", \"datasets\": {\"data-3bb4ac9dddd344f457e8b14244109206\": [{\"price\": 2.5, \"quantity\": 1}, {\"price\": 2.0, \"quantity\": 2}, {\"price\": 1.5, \"quantity\": 3}, {\"price\": 1.0, \"quantity\": 4}], \"data-410e80302710624b5125e992bf68d3d3\": [{\"x\": 4.25, \"y\": 1}]}}, {\"mode\": \"vega-lite\"});\n",
       "</script>"
      ],
      "text/plain": [
       "alt.LayerChart(...)"
      ]
     },
     "execution_count": 3,
     "metadata": {},
     "output_type": "execute_result"
    }
   ],
   "source": [
    "fig1 + text1"
   ]
  },
  {
   "cell_type": "markdown",
   "id": "f8d58a94-2ef6-47b3-8017-01665ca3e159",
   "metadata": {},
   "source": [
    "```{admonition} AD is downward sloping\n",
    "- If the price level increases (inflation), then real GDP demanded falls.\n",
    "\n",
    "- If the price level decreases (deflation), then real GDP demanded increases.\n",
    "\n",
    "Reasons why AD is downward sloping:\n",
    "- Foreign purchases effect<br>Foreigners demand less when domestic prices rise because their incomes have not risen; and domestic consumers prefer more imports since domestic prices are up.\n",
    "\n",
    "- Wealth effect<br>Financial wealth is eroded when prices rise; this cause consumers to save more and spend less.\n",
    "\n",
    "- Interest rate effect<br>When the price level increases, lenders need to charge higher interest rates to get a real return on their loans. Higher interest rates discourage consumer spending and business investment. \n",
    "```"
   ]
  },
  {
   "cell_type": "markdown",
   "id": "3f4ab996-6d29-46e9-8e13-d6cc5454a64f",
   "metadata": {},
   "source": [
    "> Note that the reason used (substitution effect, income effect) in microeconomics cannot explain a downward sloping AD. When prices in general rise, this is inflation which does not erode overall income in the economy."
   ]
  },
  {
   "cell_type": "markdown",
   "id": "d53775ad-c2e6-467b-b8fc-51eeeefd3034",
   "metadata": {},
   "source": [
    "## Factors shifting AD\n",
    "\n",
    "```{admonition} Factors shift AD\n",
    "**AD = C + I + G + (X-M)**<br>\n",
    "\n",
    "According to the formula, factors shifting AD are\n",
    "- Change in consumer confidence\n",
    "- Changes in taxes\n",
    "- Changes in business confidence\n",
    "- Changes in the money supply\n",
    "- Changes in foreign demand due to preferences or income\n",
    "- Changes in government spending\n",
    "```"
   ]
  },
  {
   "cell_type": "code",
   "execution_count": 4,
   "id": "f84a563b-385a-4b69-a812-6f6f9a9d10d8",
   "metadata": {
    "tags": [
     "remove-input"
    ]
   },
   "outputs": [
    {
     "data": {
      "text/html": [
       "\n",
       "<div id=\"altair-viz-49068b4c17c944d9803f88950b5e0063\"></div>\n",
       "<script type=\"text/javascript\">\n",
       "  (function(spec, embedOpt){\n",
       "    let outputDiv = document.currentScript.previousElementSibling;\n",
       "    if (outputDiv.id !== \"altair-viz-49068b4c17c944d9803f88950b5e0063\") {\n",
       "      outputDiv = document.getElementById(\"altair-viz-49068b4c17c944d9803f88950b5e0063\");\n",
       "    }\n",
       "    const paths = {\n",
       "      \"vega\": \"https://cdn.jsdelivr.net/npm//vega@5?noext\",\n",
       "      \"vega-lib\": \"https://cdn.jsdelivr.net/npm//vega-lib?noext\",\n",
       "      \"vega-lite\": \"https://cdn.jsdelivr.net/npm//vega-lite@4.8.1?noext\",\n",
       "      \"vega-embed\": \"https://cdn.jsdelivr.net/npm//vega-embed@6?noext\",\n",
       "    };\n",
       "\n",
       "    function loadScript(lib) {\n",
       "      return new Promise(function(resolve, reject) {\n",
       "        var s = document.createElement('script');\n",
       "        s.src = paths[lib];\n",
       "        s.async = true;\n",
       "        s.onload = () => resolve(paths[lib]);\n",
       "        s.onerror = () => reject(`Error loading script: ${paths[lib]}`);\n",
       "        document.getElementsByTagName(\"head\")[0].appendChild(s);\n",
       "      });\n",
       "    }\n",
       "\n",
       "    function showError(err) {\n",
       "      outputDiv.innerHTML = `<div class=\"error\" style=\"color:red;\">${err}</div>`;\n",
       "      throw err;\n",
       "    }\n",
       "\n",
       "    function displayChart(vegaEmbed) {\n",
       "      vegaEmbed(outputDiv, spec, embedOpt)\n",
       "        .catch(err => showError(`Javascript Error: ${err.message}<br>This usually means there's a typo in your chart specification. See the javascript console for the full traceback.`));\n",
       "    }\n",
       "\n",
       "    if(typeof define === \"function\" && define.amd) {\n",
       "      requirejs.config({paths});\n",
       "      require([\"vega-embed\"], displayChart, err => showError(`Error loading script: ${err.message}`));\n",
       "    } else if (typeof vegaEmbed === \"function\") {\n",
       "      displayChart(vegaEmbed);\n",
       "    } else {\n",
       "      loadScript(\"vega\")\n",
       "        .then(() => loadScript(\"vega-lite\"))\n",
       "        .then(() => loadScript(\"vega-embed\"))\n",
       "        .catch(showError)\n",
       "        .then(() => displayChart(vegaEmbed));\n",
       "    }\n",
       "  })({\"config\": {\"view\": {\"continuousWidth\": 400, \"continuousHeight\": 300}}, \"layer\": [{\"mark\": {\"type\": \"line\", \"point\": {\"fill\": \"white\", \"filled\": false}}, \"encoding\": {\"x\": {\"type\": \"quantitative\", \"field\": \"quantity0\", \"scale\": {\"domain\": [0, 10]}, \"title\": \"Real GDP\"}, \"y\": {\"type\": \"quantitative\", \"field\": \"price\", \"scale\": {\"domain\": [0, 3]}, \"title\": \"Price Level\"}}, \"title\": \"Aggregate Demand\"}, {\"mark\": {\"type\": \"line\", \"color\": \"green\", \"point\": {\"color\": \"green\", \"fill\": \"white\", \"filled\": false}}, \"encoding\": {\"x\": {\"type\": \"quantitative\", \"field\": \"quantity1\", \"scale\": {\"domain\": [0, 10]}, \"title\": \"Real GDP\"}, \"y\": {\"type\": \"quantitative\", \"field\": \"price\", \"scale\": {\"domain\": [0, 3]}, \"title\": \"Price Level\"}}}, {\"mark\": {\"type\": \"line\", \"color\": \"red\", \"point\": {\"color\": \"red\", \"fill\": \"white\", \"filled\": false}}, \"encoding\": {\"x\": {\"type\": \"quantitative\", \"field\": \"quantity2\", \"scale\": {\"domain\": [0, 10]}, \"title\": \"Real GDP\"}, \"y\": {\"type\": \"quantitative\", \"field\": \"price\", \"scale\": {\"domain\": [0, 3]}, \"title\": \"Price Level\"}}}, {\"data\": {\"name\": \"data-921258cd7040957900cb0089a101469b\"}, \"mark\": {\"type\": \"text\", \"fontSize\": 15, \"text\": \"AD0\"}, \"encoding\": {\"x\": {\"type\": \"quantitative\", \"field\": \"x\"}, \"y\": {\"type\": \"quantitative\", \"field\": \"y\"}}}, {\"data\": {\"name\": \"data-02e3816ce6226d20c9f3fa0c6fb779ee\"}, \"mark\": {\"type\": \"text\", \"fontSize\": 15, \"text\": \"AD1\"}, \"encoding\": {\"x\": {\"type\": \"quantitative\", \"field\": \"x\"}, \"y\": {\"type\": \"quantitative\", \"field\": \"y\"}}}, {\"data\": {\"name\": \"data-094f877d056e02d98e52519d4b7632c5\"}, \"mark\": {\"type\": \"text\", \"fontSize\": 15, \"text\": \"AD2\"}, \"encoding\": {\"x\": {\"type\": \"quantitative\", \"field\": \"x\"}, \"y\": {\"type\": \"quantitative\", \"field\": \"y\"}}}, {\"data\": {\"name\": \"data-d50b9c7087e239d7fc100208a1e5a72b\"}, \"mark\": {\"type\": \"text\", \"fontSize\": 40, \"text\": \"\\u279f\"}, \"encoding\": {\"x\": {\"type\": \"quantitative\", \"field\": \"x\"}, \"y\": {\"type\": \"quantitative\", \"field\": \"y\"}}}, {\"data\": {\"name\": \"data-4172ff529efd5bb69dac0d03f8847cbb\"}, \"mark\": {\"type\": \"text\", \"angle\": 180, \"fontSize\": 40, \"text\": \"\\u279f\"}, \"encoding\": {\"x\": {\"type\": \"quantitative\", \"field\": \"x\"}, \"y\": {\"type\": \"quantitative\", \"field\": \"y\"}}}], \"data\": {\"name\": \"data-d3943085d832d64e09af9c16952e603e\"}, \"$schema\": \"https://vega.github.io/schema/vega-lite/v4.8.1.json\", \"datasets\": {\"data-d3943085d832d64e09af9c16952e603e\": [{\"price\": 2.5, \"quantity0\": 4, \"quantity1\": 6, \"quantity2\": 2}, {\"price\": 2.0, \"quantity0\": 5, \"quantity1\": 7, \"quantity2\": 3}, {\"price\": 1.5, \"quantity0\": 6, \"quantity1\": 8, \"quantity2\": 4}, {\"price\": 1.0, \"quantity0\": 7, \"quantity1\": 9, \"quantity2\": 5}], \"data-921258cd7040957900cb0089a101469b\": [{\"x\": 7.5, \"y\": 0.85}], \"data-02e3816ce6226d20c9f3fa0c6fb779ee\": [{\"x\": 9.5, \"y\": 0.85}], \"data-094f877d056e02d98e52519d4b7632c5\": [{\"x\": 5.5, \"y\": 0.85}], \"data-d50b9c7087e239d7fc100208a1e5a72b\": [{\"x\": 7.5, \"y\": 1.2}], \"data-4172ff529efd5bb69dac0d03f8847cbb\": [{\"x\": 5.5, \"y\": 1.227}]}}, {\"mode\": \"vega-lite\"});\n",
       "</script>"
      ],
      "text/plain": [
       "alt.LayerChart(...)"
      ]
     },
     "execution_count": 4,
     "metadata": {},
     "output_type": "execute_result"
    }
   ],
   "source": [
    "df2 = pd.DataFrame(data={'price': [2.5, 2, 1.5, 1], 'quantity0':[4,5,6,7], \n",
    "                         'quantity1':[6,7,8,9],\n",
    "                         'quantity2':[2,3,4,5]}\n",
    "                  )\n",
    "\n",
    "fig2 = alt.Chart(df2).mark_line(point=alt.OverlayMarkDef(filled=False, fill='white')).encode(\n",
    "    alt.X('quantity0', title='Real GDP', scale=alt.Scale(domain=[0,10])),\n",
    "    alt.Y('price', title='Price Level', scale=alt.Scale(domain=[0,3])),\n",
    ").properties(title='Aggregate Demand')\n",
    "\n",
    "fig3 = alt.Chart(df2).mark_line(color='green', point=alt.OverlayMarkDef(filled=False, fill='white', color='green')).encode(\n",
    "    alt.X('quantity1', title='Real GDP', scale=alt.Scale(domain=[0,10])),\n",
    "    alt.Y('price', title='Price Level', scale=alt.Scale(domain=[0,3])))\n",
    "\n",
    "fig4 = alt.Chart(df2).mark_line(color='red', point=alt.OverlayMarkDef(filled=False, fill='white', color='red')).encode(\n",
    "    alt.X('quantity2', title='Real GDP', scale=alt.Scale(domain=[0,10])),\n",
    "    alt.Y('price', title='Price Level', scale=alt.Scale(domain=[0,3])))\n",
    "\n",
    "text1 = alt.Chart({'values':[{'x': 7.5, 'y': 0.85}]}).mark_text(\n",
    "    text='AD0',\n",
    "    fontSize=15\n",
    ").encode(x='x:Q', y='y:Q')\n",
    "\n",
    "text2 = alt.Chart({'values':[{'x': 9.5, 'y': 0.85}]}).mark_text(\n",
    "    text='AD1',\n",
    "    fontSize=15\n",
    ").encode(x='x:Q', y='y:Q')\n",
    "\n",
    "text3 = alt.Chart({'values':[{'x': 5.5, 'y': 0.85}]}).mark_text(\n",
    "    text='AD2',\n",
    "    fontSize=15\n",
    ").encode(x='x:Q', y='y:Q')\n",
    "\n",
    "text4 = alt.Chart({'values':[{'x': 7.5, 'y': 1.2}]}).mark_text(\n",
    "    text='➟',\n",
    "    fontSize=40\n",
    ").encode(x='x:Q', y='y:Q')\n",
    "\n",
    "text5 = alt.Chart({'values':[{'x': 5.5, 'y': 1.227}]}).mark_text(\n",
    "    text='➟',\n",
    "    fontSize=40,\n",
    "    angle=180\n",
    ").encode(x='x:Q', y='y:Q')\n",
    "\n",
    "\n",
    "fig2 + fig3 + fig4 + text1 + text2 + text3 + text4 + text5"
   ]
  },
  {
   "cell_type": "markdown",
   "id": "01c63cfe-ad2c-4cb8-9471-559f3f25a551",
   "metadata": {},
   "source": [
    "**Change in consumer confidence**<br>\n",
    "If households become more confident about their future job security or pay raises, they will spend more, shifting AD to right, *vice versa*.\n",
    "\n",
    "<br>\n",
    "\n",
    "**Changes in taxes**<br>\n",
    "A reduction in income taxes gives households more after-tax income, boosting their spending. AD shifts to right, *vice versa*.\n",
    "\n",
    "<br>\n",
    "\n",
    "**Changes in business confidence**<br>\n",
    "If business become more confident in their future sales, they will spend on plant and equipment in order to gear up. AD shifts to right, *vice versa*.\n",
    "\n",
    "<br>\n",
    "\n",
    "**Changes in the money supply**<br>\n",
    "An increase in the money supply lowers interest rates, stimulating firms to borrow and spend. Households also borrow and spend more. AD shifts to right, *vice versa*.\n",
    "\n",
    "<br>\n",
    "\n",
    "**Changes in foreign demand due to preferences or income**<br>\n",
    "If foreigners develop a taste for the products, AD will shift to right, *vice versa*.\n",
    "\n",
    "<br>\n",
    "\n",
    "\n",
    "**Changes in government spending**<br>\n",
    "If the government spend more on buying goods and services, AD will shift to right, *vice versa*."
   ]
  },
  {
   "cell_type": "markdown",
   "id": "4c63abcf-d08d-44e8-900b-a71020ebe699",
   "metadata": {},
   "source": [
    "```{importance}\n",
    "Similar to the demand-supply model, points move along the AD curve when there is only the price level change, *ceteris paribus*. If those factors change, the entire AD curve will shift right or left.\n",
    "```"
   ]
  }
 ],
 "metadata": {
  "kernelspec": {
   "display_name": "Python 3 (ipykernel)",
   "language": "python",
   "name": "python3"
  },
  "language_info": {
   "codemirror_mode": {
    "name": "ipython",
    "version": 3
   },
   "file_extension": ".py",
   "mimetype": "text/x-python",
   "name": "python",
   "nbconvert_exporter": "python",
   "pygments_lexer": "ipython3",
   "version": "3.8.13"
  }
 },
 "nbformat": 4,
 "nbformat_minor": 5
}