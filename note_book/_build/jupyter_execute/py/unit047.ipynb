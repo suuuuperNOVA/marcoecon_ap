{
 "cells": [
  {
   "cell_type": "markdown",
   "id": "ad5430c0-f151-4192-93cc-859cf31d1fab",
   "metadata": {},
   "source": [
    "# The Loanable Funds Market"
   ]
  },
  {
   "cell_type": "code",
   "execution_count": null,
   "id": "f58157dd-1d02-443b-8f04-8ef6c436470d",
   "metadata": {},
   "outputs": [],
   "source": []
  }
 ],
 "metadata": {
  "kernelspec": {
   "display_name": "Python 3 (ipykernel)",
   "language": "python",
   "name": "python3"
  },
  "language_info": {
   "codemirror_mode": {
    "name": "ipython",
    "version": 3
   },
   "file_extension": ".py",
   "mimetype": "text/x-python",
   "name": "python",
   "nbconvert_exporter": "python",
   "pygments_lexer": "ipython3",
   "version": "3.8.13"
  }
 },
 "nbformat": 4,
 "nbformat_minor": 5
}