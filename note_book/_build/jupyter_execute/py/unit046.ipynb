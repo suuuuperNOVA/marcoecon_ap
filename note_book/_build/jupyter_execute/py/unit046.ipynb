{
 "cells": [
  {
   "cell_type": "markdown",
   "id": "a8925ff9-b4d3-4300-ab3e-a98eb0a7bdd5",
   "metadata": {},
   "source": [
    "# Monetary Policy"
   ]
  },
  {
   "cell_type": "markdown",
   "id": "9d7d7dc1-a3b0-4adb-8a72-3a8ca42f959a",
   "metadata": {},
   "source": [
    "The money supply can **only** be changed by the Fed. The Fed changes the amount of money in the economy in 3 ways:\n",
    "- Reserve requirement ratio\n",
    "    - For a higher reserve requirement ratio, banks can hold more money and have less excess reserve;\n",
    "    - For a lower reserve requirement ratio, banks can hold less money and have more excess reserve.\n",
    "- Discount rate<br>The interest rate at which the Fed charges commercial banks.\n",
    "    - More money supply at a lower discount rate;\n",
    "    - Less money supply at a higher discount rate.\n",
    "- Public market operation\n",
    "    - More money supply when the Fed buys government bonds;\n",
    "    - Less money supply when the Fed sells government bonds."
   ]
  },
  {
   "cell_type": "markdown",
   "id": "907a3a52-6f9c-4d85-bb70-98f481802835",
   "metadata": {},
   "source": [
    "The Fed changes the money supply to achieve macroeconomic goals, such as price stability and full employment. In reality, there are lags to monetary policy caused by the time it takes to recognize a problem in the economy and the time it takes the economy to adjust to the policy action."
   ]
  },
  {
   "cell_type": "markdown",
   "id": "a7bfe878-42ae-48db-a1b0-4ec58cd3720c",
   "metadata": {},
   "source": [
    "## Reserve Market\n",
    "\n",
    "```{admonition} Discount rate vs. Federal fund rate\n",
    "Discount rate/DR\n",
    ": Borrowing rate between the central bank and commercial banks.<br><br>\n",
    "\n",
    "Federal funds rate/FFR\n",
    ": Borrowing rate among banks.\n",
    "```"
   ]
  },
  {
   "cell_type": "markdown",
   "id": "72ac85fc-2c50-4dc6-af04-d197ecb9f27f",
   "metadata": {},
   "source": [
    "The figure below shows the reserve market:\n",
    "- y-axis is the policy rate of reserves.\n",
    "- x-axis is the quantity of reserves.\n",
    "- The interest rate is capped by the discount rate.<br>\n",
    "The interest rate will not be higher than DR. If the interest rate is above DR, banks can borrow from the central bank.\n",
    "- The floor of the interest rate is the federal funds rate.<br>\n",
    "The interest rate will not be lower than FFR. If the interest rate is below DR, banks can arbitrage on interest rates, like borrowing at a low rate and making interests on reserves. Finally, the interest rate will be back to FFR.\n",
    "- There are 2 sections, the limited reserve and ample reserve.\n",
    "    - Limited reserve with a downward sloping line.\n",
    "    - Ample reserve is a constant line.\n",
    "\n",
    "<img src=\"../pic/unit046_reservemkt.png\" alt=\"resrve\" width=\"800\"/>"
   ]
  },
  {
   "cell_type": "markdown",
   "id": "1ba90231-ce51-43ee-814a-b1c4474e4615",
   "metadata": {},
   "source": [
    "## Ample Reserve"
   ]
  },
  {
   "cell_type": "markdown",
   "id": "6134a11f-bdf2-468e-b32a-a255de52d1b8",
   "metadata": {},
   "source": [
    "```{Important}\n",
    "Within an ample reserve market, the usual **monetary policies** (reserve ratio, discount rate, and\n",
    "open market operation) do **not work**. The central bank control the supply of reserve, but the\n",
    "demand for reserve is a horizontal line within an ample reserve market.<br><br>\n",
    "\n",
    "With ample reserves, the central bank can increase or decrease interest rates by changing the\n",
    "discount rates (DR) and the interest on reserves (IOR). DR and IOR are known as the administrated rates.\n",
    "- When the discount rate increases, the ceiling increases.\n",
    "- When the interest on reserve increases, the floor increases.\n",
    "\n",
    "<img src=\"../pic/unit046_amplereserve.png\" alt=\"ample\" width=\"800\"/>\n",
    "```"
   ]
  }
 ],
 "metadata": {
  "kernelspec": {
   "display_name": "Python 3 (ipykernel)",
   "language": "python",
   "name": "python3"
  },
  "language_info": {
   "codemirror_mode": {
    "name": "ipython",
    "version": 3
   },
   "file_extension": ".py",
   "mimetype": "text/x-python",
   "name": "python",
   "nbconvert_exporter": "python",
   "pygments_lexer": "ipython3",
   "version": "3.8.13"
  }
 },
 "nbformat": 4,
 "nbformat_minor": 5
}