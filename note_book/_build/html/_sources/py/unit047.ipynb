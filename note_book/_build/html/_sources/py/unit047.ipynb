{
 "cells": [
  {
   "cell_type": "markdown",
   "id": "ad5430c0-f151-4192-93cc-859cf31d1fab",
   "metadata": {},
   "source": [
    "# The Loanable Funds Market"
   ]
  },
  {
   "cell_type": "markdown",
   "id": "fabf16f4-7035-4378-9aa4-b8efec6614ed",
   "metadata": {},
   "source": [
    "> We still use demand and supply model to explain the loanable funds market."
   ]
  },
  {
   "cell_type": "markdown",
   "id": "af763bd3-8f5e-492a-9dfe-ae37b55e1203",
   "metadata": {},
   "source": [
    "Financial intermediation is to get funds from lenders to borrowers. The interaction of borrowers, who demand loanable funds, and savers, who supply loanable funds, determines the equilibrium real interest rate."
   ]
  },
  {
   "cell_type": "markdown",
   "id": "91dd0616-03eb-4f22-bf34-1658f392b6f4",
   "metadata": {},
   "source": [
    "Who demands loans?\n",
    "- Individuals\n",
    "- Business\n",
    "- Governments\n",
    "- Foreign businesses and governments."
   ]
  },
  {
   "cell_type": "markdown",
   "id": "baf8867b-5d00-4268-91a2-38e6c25548f9",
   "metadata": {},
   "source": [
    "## Demand for Loanable Funds**\n",
    "\n",
    "When the real interest rate is high, the quantity of funds demanded will be relatively low because of the high cost (*vice versa*). So, the demand curve is downward sloping."
   ]
  },
  {
   "cell_type": "markdown",
   "id": "29036fa1-4ca9-4943-959c-a88ee56f3f74",
   "metadata": {},
   "source": [
    "### Investing and Demand\n",
    "\n",
    "Borrowing is the demand of loanable funds, including private investment and government borrowing.<br>\n",
    "\n",
    "Private investment\n",
    ": Borrowing by businesses and consumers.<br>\n",
    "\n",
    "Government borrowing\n",
    ": Deficit spending when government spending is greater than tax revenue."
   ]
  },
  {
   "cell_type": "markdown",
   "id": "ddcd7e24-06c3-4ca7-b3ec-71ee12702bca",
   "metadata": {},
   "source": [
    "## Supply for Loanable Funds\n",
    "\n",
    "When the real interest rate is high, the quantity of funds supplied will be relatively high because of the high interest (*vice versa*). So, the supply curve is upward sloping."
   ]
  },
  {
   "cell_type": "markdown",
   "id": "29108e8d-5da8-4f69-862d-840f17987291",
   "metadata": {},
   "source": [
    "### Saving and Supply\n",
    "\n",
    "Saving is what makes lending possible so the supply of loanable funds is the amount of money that is saved.<br>\n",
    "\n",
    "Private saving\n",
    ": Amount that households save instead of consume.<br>\n",
    "\n",
    "Public saving\n",
    ": Amount that the government saves instead of spends.<br>\n",
    "\n",
    "```{note}\n",
    "For a **closed** economy, **National savings = Public saving + Private saving**.<br><br>\n",
    "\n",
    "For an *open* economy, **Investment = National savings + Net capital inflow**.\n",
    "```"
   ]
  },
  {
   "cell_type": "markdown",
   "id": "01506356-7043-4ea3-b333-b7d0ecd3c392",
   "metadata": {},
   "source": [
    "## Market Equilibrium of the Loanable Funds Market"
   ]
  },
  {
   "cell_type": "markdown",
   "id": "e5c050c9-fda8-4400-b25b-ef49755e1776",
   "metadata": {},
   "source": [
    "The figure below shows the market equilibrium of the loanable funds market. "
   ]
  },
  {
   "cell_type": "markdown",
   "id": "65e0c6a9-ce61-4d07-a629-f56ead461e30",
   "metadata": {},
   "source": [
    "<img src='../pic/unit047_loan.png' alt='loan' width='500'/>"
   ]
  },
  {
   "cell_type": "markdown",
   "id": "ce6e6e7a-7abc-4906-9ea7-01560cdfce93",
   "metadata": {},
   "source": [
    "## Shifters of the Demand for Loanable Funds\n",
    "\n",
    "Factors increasing the demand:\n",
    "- More business opportunities;\n",
    "- Expected future sales increase;\n",
    "- New technology are adopted;\n",
    "- Government borrowing increases."
   ]
  },
  {
   "cell_type": "markdown",
   "id": "05cadd02-9af2-4c06-9a2b-61c40b4a3095",
   "metadata": {},
   "source": [
    "## Shifters of the Supply for Loanable Funds\n",
    "\n",
    "Factors increasing the supply:\n",
    "- A change in consumer preferences in favor of saving;\n",
    "- More funds from foreigners;\n",
    "- More saving due to a change in incentives;\n",
    "- Income increases."
   ]
  }
 ],
 "metadata": {
  "kernelspec": {
   "display_name": "Python 3 (ipykernel)",
   "language": "python",
   "name": "python3"
  },
  "language_info": {
   "codemirror_mode": {
    "name": "ipython",
    "version": 3
   },
   "file_extension": ".py",
   "mimetype": "text/x-python",
   "name": "python",
   "nbconvert_exporter": "python",
   "pygments_lexer": "ipython3",
   "version": "3.8.13"
  }
 },
 "nbformat": 4,
 "nbformat_minor": 5
}
