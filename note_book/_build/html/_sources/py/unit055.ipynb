{
 "cells": [
  {
   "cell_type": "markdown",
   "id": "36f118c1-5ef1-4f0f-aecb-fdb45f4c4f87",
   "metadata": {},
   "source": [
    "# Crowding out"
   ]
  },
  {
   "cell_type": "markdown",
   "id": "4223817d-2e42-41e4-ad20-06f956f45a88",
   "metadata": {},
   "source": [
    "When there is a recessionary gap, the government increases the government spending to make up the gap. They use the appropriate fiscal policy and runs a deficit. Then, they will need to borrow money. This will result in:\n",
    "- The demand for money shifts to the right and the interest rate increases;\n",
    "- The higher rates of interest induce consumers and businesses to borrow and spend less than before;\n",
    "- This decline in private investment shifts the AD back to its original position."
   ]
  },
  {
   "cell_type": "markdown",
   "id": "4ca29ca4-1dd2-408f-9b00-a214f3c1f97c",
   "metadata": {},
   "source": [
    "<img src='../pic/unit055_crowd.png' alt='crowd' width='600'/>"
   ]
  },
  {
   "cell_type": "markdown",
   "id": "531be978-2c50-40fc-ae03-803288297776",
   "metadata": {},
   "source": [
    "Crowding out\n",
    ": The increase in interest rates and subsequent decline in spending that occur when the government borrows money to finance a deficit.\n",
    ": Expansionary fiscal policy can be ineffectual."
   ]
  }
 ],
 "metadata": {
  "kernelspec": {
   "display_name": "Python 3 (ipykernel)",
   "language": "python",
   "name": "python3"
  },
  "language_info": {
   "codemirror_mode": {
    "name": "ipython",
    "version": 3
   },
   "file_extension": ".py",
   "mimetype": "text/x-python",
   "name": "python",
   "nbconvert_exporter": "python",
   "pygments_lexer": "ipython3",
   "version": "3.8.13"
  }
 },
 "nbformat": 4,
 "nbformat_minor": 5
}
