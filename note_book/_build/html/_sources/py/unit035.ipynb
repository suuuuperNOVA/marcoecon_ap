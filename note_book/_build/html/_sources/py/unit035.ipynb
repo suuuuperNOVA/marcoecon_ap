{
 "cells": [
  {
   "cell_type": "markdown",
   "id": "8c1ed910-ff33-452c-b446-7594b59d0045",
   "metadata": {},
   "source": [
    "# Equilibrium in the Aggregate Demand-Aggregate Supply (AD-AS) Model"
   ]
  },
  {
   "cell_type": "markdown",
   "id": "24d03e79-22dc-4002-bd47-1bb965343a2a",
   "metadata": {},
   "source": [
    "## Short-Run Equilibrium\n",
    "\n",
    "The short-run equilibrium reaches when AD intersects SRAS like the market equilibrium in microeconomics. When the price level is above the equilibrium price level, there is excess supply. When the price level is below the equilibrium price level, there is excess demand."
   ]
  },
  {
   "cell_type": "markdown",
   "id": "b3436d6d-1911-48d4-8e63-a525c4e663b0",
   "metadata": {},
   "source": [
    "<img src=\"../pic/unit035_sreq.png\" alt=\"sreq\" width=\"600\"/>"
   ]
  },
  {
   "cell_type": "markdown",
   "id": "9bf219b7-6c0e-4057-883d-f79ccbed1e56",
   "metadata": {},
   "source": [
    "### AD-AS Model"
   ]
  },
  {
   "cell_type": "markdown",
   "id": "7c08b809-bc49-4a74-ac34-13d4e6743ca8",
   "metadata": {},
   "source": [
    "```{important}\n",
    "Shifters of AD, where AD = C + I + G + (X - M)\n",
    "- Change in consumer spending\n",
    "- Change in investment spending\n",
    "- Change in government spending\n",
    "- Change in net export\n",
    "<br><br>\n",
    "Shifters of AS, where AS = R + A + P\n",
    "- Change in resources prices\n",
    "- Change in actions of the government\n",
    "- Change in productivity\n",
    "```\n",
    "\n",
    "When AD shifts to the left, the real GDP decreases from Y1 to Y2 and the price level decreases from P1 to P2. The decline in real GDP implies:\n",
    "- Lower production\n",
    "- Lower income\n",
    "- More unemployment"
   ]
  },
  {
   "cell_type": "markdown",
   "id": "49365add-52dd-448a-b7be-89c9d3303f31",
   "metadata": {},
   "source": [
    "<img src=\"../pic/unit035_adshift.png\" alt=\"adshift\" width=\"400\"/>"
   ]
  },
  {
   "cell_type": "markdown",
   "id": "9bfce623-e5c7-4485-9f26-bd9e4d39aeb3",
   "metadata": {},
   "source": [
    "When AS shifts to the left, the real GDP decreases from Y1 to Y2 and the price level increases from P1 to P2. The decline in real GDP implies:\n",
    "- Lower production\n",
    "- Higher resource prices\n",
    "- More unemployment"
   ]
  },
  {
   "cell_type": "markdown",
   "id": "9e029798-f1d0-4bb9-b92c-88d655aeafdc",
   "metadata": {},
   "source": [
    "<img src=\"../pic/unit035_asshift.png\" alt=\"asshift\" width=\"400\"/>"
   ]
  },
  {
   "cell_type": "markdown",
   "id": "bbed96ed-5f6e-4737-81a0-3731af094fcf",
   "metadata": {},
   "source": [
    "## Long-Run Equilibrium"
   ]
  },
  {
   "cell_type": "markdown",
   "id": "766d54a6-67f5-479c-b7cd-f22154700119",
   "metadata": {},
   "source": [
    "The long-run equilibrium is operating in full equilibrium where AD, SRAS, and LRAS intersect. The real GDP in full equilibrium is noted as Yf. The *Y* stands for real GDP and the *f* stands for full employment of resources. **The full equilibrium point, E1, is a point on the PPC.**"
   ]
  },
  {
   "cell_type": "markdown",
   "id": "50ae86bb-968a-4944-9113-ef8a821994c3",
   "metadata": {},
   "source": [
    "<img src=\"../pic/unit035_lreq.png\" alt=\"lreq\" width=\"400\"/>"
   ]
  },
  {
   "cell_type": "code",
   "execution_count": null,
   "id": "25b03369-aa31-4dd8-a0a9-70ec14c2fc85",
   "metadata": {},
   "outputs": [],
   "source": []
  }
 ],
 "metadata": {
  "kernelspec": {
   "display_name": "Python 3 (ipykernel)",
   "language": "python",
   "name": "python3"
  },
  "language_info": {
   "codemirror_mode": {
    "name": "ipython",
    "version": 3
   },
   "file_extension": ".py",
   "mimetype": "text/x-python",
   "name": "python",
   "nbconvert_exporter": "python",
   "pygments_lexer": "ipython3",
   "version": "3.8.13"
  }
 },
 "nbformat": 4,
 "nbformat_minor": 5
}
