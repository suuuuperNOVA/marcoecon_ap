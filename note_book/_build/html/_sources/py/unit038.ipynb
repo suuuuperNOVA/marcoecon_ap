{
 "cells": [
  {
   "cell_type": "markdown",
   "id": "f93a06fa-0997-42b3-87ac-3cc1534324b3",
   "metadata": {},
   "source": [
    "# Fiscal Policy"
   ]
  },
  {
   "cell_type": "markdown",
   "id": "737a67b8-1a91-449f-8edb-2352949224e6",
   "metadata": {},
   "source": [
    "Fiscal policy\n",
    ": Change the level of government spending or tax revenues to achieve economic stability.<br><br>\n",
    "\n",
    "Expansionary fiscal policy\n",
    ": Increase government spending and/or decrease tax collections in order to stimulate the macroeconomy.\n",
    ": Shift AD to the right.\n",
    ": Remedy a recession.<br><br>\n",
    "\n",
    "Contractionary fiscal policy\n",
    ": Decrease government spending and/or increase tax collections in order to cool off the economy and lower the price level.\n",
    ": Shift AD to the left."
   ]
  },
  {
   "cell_type": "markdown",
   "id": "a1d18d5a-cf98-4620-8bc1-d6dba7384278",
   "metadata": {},
   "source": [
    "## Expansionary Fiscal Policy\n",
    "\n"
   ]
  },
  {
   "cell_type": "markdown",
   "id": "8b33ea48-6dd2-4ed4-933c-4ae9ad33d14e",
   "metadata": {},
   "source": []
  },
  {
   "cell_type": "markdown",
   "id": "2eb5673a-9413-46d9-9e1e-870788017e8b",
   "metadata": {},
   "source": []
  }
 ],
 "metadata": {
  "kernelspec": {
   "display_name": "Python 3 (ipykernel)",
   "language": "python",
   "name": "python3"
  },
  "language_info": {
   "codemirror_mode": {
    "name": "ipython",
    "version": 3
   },
   "file_extension": ".py",
   "mimetype": "text/x-python",
   "name": "python",
   "nbconvert_exporter": "python",
   "pygments_lexer": "ipython3",
   "version": "3.8.13"
  }
 },
 "nbformat": 4,
 "nbformat_minor": 5
}
