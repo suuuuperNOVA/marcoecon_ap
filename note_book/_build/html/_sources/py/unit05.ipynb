{
 "cells": [
  {
   "cell_type": "markdown",
   "id": "fa0c0f43-0bad-4aef-bd40-f3f3d9dc6bed",
   "metadata": {},
   "source": [
    "# Long-Run Consequences of Stabilization Policies"
   ]
  },
  {
   "cell_type": "markdown",
   "id": "c69d34c9-5fec-418c-a85b-a0e1fd0ab0fe",
   "metadata": {
    "tags": []
   },
   "source": [
    "```{note}\n",
    "In this unit, we will have:\n",
    "- Economic growth;\n",
    "- Relationship between inflation and unemployment;\n",
    "- How monetary and fiscal policies affect the economy in the long run.\n",
    "```"
   ]
  }
 ],
 "metadata": {
  "kernelspec": {
   "display_name": "Python 3 (ipykernel)",
   "language": "python",
   "name": "python3"
  },
  "language_info": {
   "codemirror_mode": {
    "name": "ipython",
    "version": 3
   },
   "file_extension": ".py",
   "mimetype": "text/x-python",
   "name": "python",
   "nbconvert_exporter": "python",
   "pygments_lexer": "ipython3",
   "version": "3.8.13"
  }
 },
 "nbformat": 4,
 "nbformat_minor": 5
}
