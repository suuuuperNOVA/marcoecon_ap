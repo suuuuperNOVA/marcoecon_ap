{
 "cells": [
  {
   "cell_type": "markdown",
   "id": "866981fb-faba-4584-b18b-2943fc7deef5",
   "metadata": {},
   "source": [
    "# Financial Sector"
   ]
  },
  {
   "cell_type": "markdown",
   "id": "7b5099b1-cf42-4d94-b176-0470bdd1add6",
   "metadata": {},
   "source": [
    "```{note}\n",
    "This unit is more about the financial market and the money market.\n",
    "\n",
    "- Money makes it possible to compare the value of goods and services.\n",
    "- Interest rates provide a measure of the price of money that is borrowed or saved.\n",
    "```"
   ]
  }
 ],
 "metadata": {
  "kernelspec": {
   "display_name": "Python 3 (ipykernel)",
   "language": "python",
   "name": "python3"
  },
  "language_info": {
   "codemirror_mode": {
    "name": "ipython",
    "version": 3
   },
   "file_extension": ".py",
   "mimetype": "text/x-python",
   "name": "python",
   "nbconvert_exporter": "python",
   "pygments_lexer": "ipython3",
   "version": "3.8.13"
  }
 },
 "nbformat": 4,
 "nbformat_minor": 5
}
