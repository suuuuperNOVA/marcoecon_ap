{
 "cells": [
  {
   "cell_type": "markdown",
   "id": "1d7c501b-a998-4b2d-818f-1f53d8cc7ce2",
   "metadata": {},
   "source": [
    "# Fiscal and Monetary Policy Actions in the Short Run"
   ]
  },
  {
   "cell_type": "markdown",
   "id": "6053bce1-e7b5-4187-a831-9b84dbb181fb",
   "metadata": {},
   "source": [
    "- A combination of expansionary or contractionary fiscal and monetary policies may be used to restore full employment when the economy is in a negative.\n",
    "- A combination of fiscal and monetary policies can influence:\n",
    "    - Aggregate demand;\n",
    "    - Real output;\n",
    "    - Price level;\n",
    "    - Interest rates."
   ]
  }
 ],
 "metadata": {
  "kernelspec": {
   "display_name": "Python 3 (ipykernel)",
   "language": "python",
   "name": "python3"
  },
  "language_info": {
   "codemirror_mode": {
    "name": "ipython",
    "version": 3
   },
   "file_extension": ".py",
   "mimetype": "text/x-python",
   "name": "python",
   "nbconvert_exporter": "python",
   "pygments_lexer": "ipython3",
   "version": "3.8.13"
  }
 },
 "nbformat": 4,
 "nbformat_minor": 5
}
