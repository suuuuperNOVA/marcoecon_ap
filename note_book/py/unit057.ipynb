{
 "cells": [
  {
   "cell_type": "markdown",
   "id": "d95c0210-1333-4e4d-8e58-fe583d6ca74b",
   "metadata": {},
   "source": [
    "# Public Policy and Economic Growth"
   ]
  },
  {
   "cell_type": "markdown",
   "id": "0fc5f586-2a13-45eb-ab0b-87c2ccc26ee5",
   "metadata": {},
   "source": [
    "Policies resulting in the long-run economic growth:\n",
    "- Education/Training spending<br>Increase human capital.\n",
    "- Infrastructure spending<br>Increase physical capital.\n",
    "- Production/Investment incentive programs<br>Increase physical capital by reducing tax rate."
   ]
  },
  {
   "cell_type": "markdown",
   "id": "0e07e7d7-5b59-40ba-9751-a0a3dd7dab97",
   "metadata": {},
   "source": [
    "Government spending does not necessarily results in economic growth. Only spending that **increases productivity or technology** does."
   ]
  }
 ],
 "metadata": {
  "kernelspec": {
   "display_name": "Python 3 (ipykernel)",
   "language": "python",
   "name": "python3"
  },
  "language_info": {
   "codemirror_mode": {
    "name": "ipython",
    "version": 3
   },
   "file_extension": ".py",
   "mimetype": "text/x-python",
   "name": "python",
   "nbconvert_exporter": "python",
   "pygments_lexer": "ipython3",
   "version": "3.8.13"
  }
 },
 "nbformat": 4,
 "nbformat_minor": 5
}
