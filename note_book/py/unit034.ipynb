{
 "cells": [
  {
   "cell_type": "markdown",
   "id": "8cb22eb9-202e-428d-aa2e-fa045fe5ec31",
   "metadata": {},
   "source": [
    "# Long-Run Aggregate Supply (LRAS)"
   ]
  },
  {
   "cell_type": "markdown",
   "id": "79a63a90-aa15-4f3f-98f0-690a60989f1c",
   "metadata": {},
   "source": [
    "In the long run, wages and resource prices are flexible and will change when price level changes."
   ]
  },
  {
   "cell_type": "markdown",
   "id": "280a86a1-d2cd-4a5a-bb5f-50f71865616a",
   "metadata": {},
   "source": [
    "```{admonition} Example\n",
    "If a firm currently makes 100 units that are sold for \\$1 each, the only cost is \\$80 of labor. The total profit is \\$20.<br><br>\n",
    "In a short run, the product price is doubled. The total profit becomes \\$120. So, the firms have an incentive to make more.<br><br>\n",
    "But in a long run, workers demand higher wages to match higher price level. Then, the labor costs double to \\$160. The total profit becomes \\$40. The firms have no incentive to produce more since real profit is the same.\n",
    "```"
   ]
  },
  {
   "cell_type": "markdown",
   "id": "32b21c49-e662-4d64-b12e-3ac2c65c30dd",
   "metadata": {},
   "source": [
    "As shown in the figure below, in the long run:\n",
    "- Price level increases but **real GDP doesn't**.\n",
    "- Economy produces at full employment (points on the PPC), which is known as **maximum sustainable capacity**."
   ]
  },
  {
   "cell_type": "markdown",
   "id": "1f51e8b3-c678-4ba6-8374-3693915d7b3b",
   "metadata": {},
   "source": [
    "<img src=\"../pic/unit034_lras.png\" alt=\"lras\" width=\"600\"/>"
   ]
  },
  {
   "cell_type": "markdown",
   "id": "8cba7302-99c5-4449-a83c-71850431a2ba",
   "metadata": {},
   "source": [
    "## Shifters in LRAS\n",
    "\n",
    "- Change in resource quantity or quality\n",
    "- Change in technology"
   ]
  },
  {
   "cell_type": "markdown",
   "id": "4a796bc3-3410-456a-8171-cd633bfd193e",
   "metadata": {},
   "source": [
    "<img src=\"../pic/unit034_shifter.png\" alt=\"shifter\" width=\"600\"/>"
   ]
  }
 ],
 "metadata": {
  "kernelspec": {
   "display_name": "Python 3 (ipykernel)",
   "language": "python",
   "name": "python3"
  },
  "language_info": {
   "codemirror_mode": {
    "name": "ipython",
    "version": 3
   },
   "file_extension": ".py",
   "mimetype": "text/x-python",
   "name": "python",
   "nbconvert_exporter": "python",
   "pygments_lexer": "ipython3",
   "version": "3.8.13"
  }
 },
 "nbformat": 4,
 "nbformat_minor": 5
}
