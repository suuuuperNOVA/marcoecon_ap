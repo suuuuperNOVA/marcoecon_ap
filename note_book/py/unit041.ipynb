{
 "cells": [
  {
   "cell_type": "markdown",
   "id": "27b9f93b-20d0-4d6e-b3d1-15f242c1c789",
   "metadata": {},
   "source": [
    "# Financial Assets"
   ]
  },
  {
   "cell_type": "markdown",
   "id": "86606eaf-1622-4101-ae80-c23ac1bc6ce7",
   "metadata": {},
   "source": [
    "Financial asset\n",
    ": A liquid asset that gets its value from a contractual right or ownership claim.\n",
    ": No physical form.\n",
    ": e.g. cash, stocks, bonds, mutual funds and bank deposits."
   ]
  },
  {
   "cell_type": "markdown",
   "id": "04d3457c-b6db-47c2-920c-1656a199936b",
   "metadata": {
    "tags": []
   },
   "source": [
    "Financial assets are featured by:\n",
    "- Liquidity\n",
    "- Rate of return\n",
    "- Risk"
   ]
  },
  {
   "cell_type": "markdown",
   "id": "399b237d-eee4-4b0d-8345-5c6516f8def2",
   "metadata": {
    "tags": []
   },
   "source": [
    "Liquidity\n",
    ": Ease of converting an asset or security into cash, with cash itself being the most liquid asset of all.\n",
    ": Cash and deposits are the most liquid assets. Bonds and stocks follow.<br>\n",
    "<br>\n",
    "Rate of return\n",
    ": Net gain or loss of an investment over a specified time period, expressed as a percentage of the investment's initial cost.\n",
    ": <math xmlns=\"http://www.w3.org/1998/Math/MathML\">\n",
    "  <mi>R</mi>\n",
    "  <mo>=</mo>\n",
    "  <mfrac>\n",
    "    <mrow>\n",
    "      <msub>\n",
    "        <mi>V</mi>\n",
    "        <mi>f</mi>\n",
    "      </msub>\n",
    "      <mo>&#x2212;<!-- − --></mo>\n",
    "      <msub>\n",
    "        <mi>V</mi>\n",
    "        <mi>i</mi>\n",
    "      </msub>\n",
    "    </mrow>\n",
    "    <msub>\n",
    "      <mi>V</mi>\n",
    "      <mi>i</mi>\n",
    "    </msub>\n",
    "  </mfrac>\n",
    "  <mo>&#x00D7;<!-- × --></mo>\n",
    "  <mn>100</mn>\n",
    "  <mi mathvariant=\"normal\">&#x0025;<!-- % --></mi>\n",
    "</math>"
   ]
  },
  {
   "cell_type": "markdown",
   "id": "86ed91ad-d501-4388-ba3d-7c4c2dca12ed",
   "metadata": {},
   "source": [
    "Example<br>\n",
    "The house was bought for 1 million in 2018 and sold for 1.5 million in 2023. So, the rate of return was 50%."
   ]
  },
  {
   "cell_type": "markdown",
   "id": "51207326-d89f-41b0-90af-671cf7449dcf",
   "metadata": {},
   "source": [
    "<math xmlns=\"http://www.w3.org/1998/Math/MathML\">\n",
    "  <mi>R</mi>\n",
    "  <mo>=</mo>\n",
    "  <mfrac>\n",
    "    <mrow>\n",
    "      <mn>1.5</mn>\n",
    "      <mo>&#x2212;<!-- − --></mo>\n",
    "      <mn>1</mn>\n",
    "    </mrow>\n",
    "    <mn>1</mn>\n",
    "  </mfrac>\n",
    "  <mo>=</mo>\n",
    "  <mn>50</mn>\n",
    "  <mi mathvariant=\"normal\">&#x0025;<!-- % --></mi>\n",
    "</math>"
   ]
  },
  {
   "cell_type": "markdown",
   "id": "2044027e-46fc-4133-9510-7881e7549f26",
   "metadata": {},
   "source": [
    "Financial risks are uncertainties about future outcomes that involve financial losses and gains, including:\n",
    "- Market risk<br>Movement in prices of financial instrument.\n",
    "- Credit risk<br>One fails to fulfill their obligations towards their counterparties, such as default on the mortgage repayments.\n",
    "- Operational risk<br> Mismanagement or technical failures, such as fraud risk and model risk.\n",
    "- Legal risk<br>Risk to be involved in a lawsuit."
   ]
  },
  {
   "cell_type": "markdown",
   "id": "562e65cd-387a-434b-a32c-29b7df910835",
   "metadata": {},
   "source": [
    "The figure below shows the financial assets at the corresponding risk levels. **The greater the risk, the higher the rate of return to compensate the investors taking additional risks.**"
   ]
  },
  {
   "cell_type": "markdown",
   "id": "92cae22f-0b25-48e7-ac14-b054736c6c50",
   "metadata": {
    "tags": []
   },
   "source": [
    "<img src='../pic/unit041_risk.png' alt='risk' width='600'/>"
   ]
  },
  {
   "cell_type": "markdown",
   "id": "77dafc98-ad51-40d3-9796-3404e31741cb",
   "metadata": {
    "tags": []
   },
   "source": [
    "```{admonition} Equity vs. Bond\n",
    "Bond\n",
    ": Paid a fixed interest rate (coupon) to debtholders.\n",
    ": e.g. treasury bonds, corporate bonds.\n",
    "<br>\n",
    "\n",
    "Equity\n",
    ": Value that would be returned to a company’s shareholders if all of the assets were liquidated and all of the company's debts were paid off.\n",
    "```"
   ]
  },
  {
   "cell_type": "markdown",
   "id": "1476209c-e1fd-4bf4-8805-d15572271ca6",
   "metadata": {
    "tags": []
   },
   "source": [
    "## Relationship between Bond Price and Interest Rate"
   ]
  },
  {
   "cell_type": "markdown",
   "id": "4a9d9627-5222-4fbd-8251-8bbf7fb8ee0c",
   "metadata": {},
   "source": [
    "> For example, there is a corporate bond with a face value of \\$100, a coupon rate of 5% and a duration of 1 year. This means that investors can pay \\$100 for this bond today. Next year, the investor can get \\$105 (\\$100 as the face value and \\$5 as the interest).<br><br>\n",
    "> Will this bond be worth more if the interest rate is higher or lower?"
   ]
  },
  {
   "cell_type": "markdown",
   "id": "ed711dba-e01b-4dab-a72e-2ae086098bbb",
   "metadata": {},
   "source": [
    "Method 1:\n",
    "- If the interest rate is 3%, this bond will have a higher value. If you deposit \\$100 in your bank account, you will get \\$103 next year. The corporate bond pays more and more people will want to buy this bond. So, the bond price will increase.\n",
    "- If the interest rate is 7%, this bond will have a higher value. If you deposit \\$100 in your bank account, you will get \\$107 next year. The corporate bond pays less and less people will want to buy this bond. So, the bond price will decrease."
   ]
  },
  {
   "cell_type": "markdown",
   "id": "aebaee1f-69ed-4c57-8c0a-1493eb9a9c74",
   "metadata": {},
   "source": [
    "Method 2:\n",
    "\n",
    "**(1+r)PV = FV**, where PV is the present value (money paid today), FV is the future value (money get back next year), and r is the interest rate.<br>\n",
    "\n",
    "Hence, price paid today = PV = FV/(1+r).\n",
    "- If the interest rate increases, the price will decrease.\n",
    "- If the interest rate decreases, the price will increase."
   ]
  },
  {
   "cell_type": "markdown",
   "id": "183d4d49-e622-4ee9-a039-ed0ff250b70e",
   "metadata": {
    "tags": []
   },
   "source": [
    "```{important}\n",
    "The price of bonds and interest rates on bonds are inversely related.<br>\n",
    "\n",
    "The opportunity cost of holding money is the interest.\n",
    "```"
   ]
  }
 ],
 "metadata": {
  "kernelspec": {
   "display_name": "Python 3 (ipykernel)",
   "language": "python",
   "name": "python3"
  },
  "language_info": {
   "codemirror_mode": {
    "name": "ipython",
    "version": 3
   },
   "file_extension": ".py",
   "mimetype": "text/x-python",
   "name": "python",
   "nbconvert_exporter": "python",
   "pygments_lexer": "ipython3",
   "version": "3.8.13"
  }
 },
 "nbformat": 4,
 "nbformat_minor": 5
}
