{
 "cells": [
  {
   "cell_type": "markdown",
   "id": "6b3dff83-92c7-452f-96f8-23eef64fc27d",
   "metadata": {},
   "source": [
    "# Real vs. Nominal GDP"
   ]
  },
  {
   "cell_type": "markdown",
   "id": "a90cc187-2f3d-40fb-aa10-725f2a012d3a",
   "metadata": {},
   "source": [
    "Nominal GDP\n",
    ": GDP measured in current prices. It does not account for inflation from year to year.<br><br>\n",
    "\n",
    "Real GDP\n",
    ": Output measured using constant prices. Effect of changes in the overall price level is removed.\n",
    ": Measure how much is produced."
   ]
  },
  {
   "cell_type": "markdown",
   "id": "a83a33f0-6668-4e28-bd76-98dd7f2a7da5",
   "metadata": {},
   "source": [
    "## GDP Deflator\n",
    "\n",
    "GDP deflator\n",
    ": Measures the changes in prices for all the goods and services produced in an economy.\n",
    "\n",
    "\n",
    "<math xmlns=\"http://www.w3.org/1998/Math/MathML\">\n",
    "  <mtext>GDP Deflator</mtext>\n",
    "  <mo>=</mo>\n",
    "  <mfrac>\n",
    "    <mtext>GDP</mtext>\n",
    "    <mtext>Real GDP</mtext>\n",
    "  </mfrac>\n",
    "  <mo>&#x00D7;<!-- × --></mo>\n",
    "  <mn>100</mn>\n",
    "</math><br><br>\n",
    "\n",
    "<math xmlns=\"http://www.w3.org/1998/Math/MathML\">\n",
    "  <mtext>Real GDP</mtext>\n",
    "  <mo>=</mo>\n",
    "  <mfrac>\n",
    "    <mtext>GDP</mtext>\n",
    "    <mtext>GDP Deflator</mtext>\n",
    "  </mfrac>\n",
    "  <mo>&#x00D7;<!-- × --></mo>\n",
    "  <mn>100</mn>\n",
    "</math>"
   ]
  },
  {
   "cell_type": "markdown",
   "id": "64e032b0-1545-46c1-ac97-3e49b89d0644",
   "metadata": {},
   "source": [
    "```{admonition} CPI vs. GDP deflator\n",
    "\n",
    "- GDP deflator ignores the price increase of imports.\n",
    "- CPI ignores price changes of nonconsumer items.\n",
    "\n",
    "\n",
    "They do not differ markedly.\n",
    "```"
   ]
  }
 ],
 "metadata": {
  "kernelspec": {
   "display_name": "Python 3 (ipykernel)",
   "language": "python",
   "name": "python3"
  },
  "language_info": {
   "codemirror_mode": {
    "name": "ipython",
    "version": 3
   },
   "file_extension": ".py",
   "mimetype": "text/x-python",
   "name": "python",
   "nbconvert_exporter": "python",
   "pygments_lexer": "ipython3",
   "version": "3.8.13"
  }
 },
 "nbformat": 4,
 "nbformat_minor": 5
}
