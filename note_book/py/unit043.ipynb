{
 "cells": [
  {
   "cell_type": "markdown",
   "id": "f246fb68-bf57-4f67-bb26-0653676e01a3",
   "metadata": {},
   "source": [
    "# Definition, Measurement, and Functions of Money"
   ]
  },
  {
   "cell_type": "markdown",
   "id": "d69b5a0b-eba6-42b2-9240-061f7b108856",
   "metadata": {
    "tags": []
   },
   "source": [
    "Barter system\n",
    ": Goods and services are traded directly. There is no money exchanged.\n",
    "<br>\n",
    "\n",
    "Money\n",
    ": Anything that is generally accepted as payment for goods and services.\n",
    "<br>\n",
    "\n",
    "Commodity money\n",
    ": Something that performs the function of money and has intrinsic value.\n",
    ": e.g. gold, silver, cigarettes.\n",
    "<br>\n",
    "\n",
    "Fiat money\n",
    ": Something that serves as money but has no other value or uses.\n",
    ": Nothing stands behind the money except the fact that they are legal tender.\n",
    ": e.g. paper money, coins, digital currency.\n",
    "<br>\n",
    "\n",
    "Currency\n",
    ": In the US, coins issued by the Treasury and paper money issued by the Federal Reserve."
   ]
  },
  {
   "cell_type": "markdown",
   "id": "0fee1429-2ad2-4162-92db-975e04b983db",
   "metadata": {},
   "source": [
    "## Functions of Money\n",
    "\n",
    "- Medium of exchange<br>Money can easily be used to buy goods and services with no complications of barter system.\n",
    "- Unit of account/Measure of value<br>Money measures the value of all goods and services.  Money acts as a measurement of value.\n",
    "- Store of value<br>Money allows you to store purchasing power for the future."
   ]
  },
  {
   "cell_type": "markdown",
   "id": "78b612c8-8e6e-4186-b70b-caa30be3cf54",
   "metadata": {},
   "source": [
    "What backs the money?\n",
    "- Generally accepted<br>Buyers and sellers have confidence.\n",
    "- Scarce<br>Money must not be easily reproduced.\n",
    "- Portable and dividable<br>Money must be easily transported and divided. \n",
    "\n",
    "Purchasing power\n",
    ": Amount of goods and services an unit of money can buy.\n",
    ": Inflation decreases purchasing power.\n",
    ": Hyperinflation decreases acceptability."
   ]
  },
  {
   "cell_type": "markdown",
   "id": "aae88f1f-24a0-42cc-b902-4e879df8518d",
   "metadata": {},
   "source": [
    "## Money Classification\n",
    "\n",
    "Money can be classified by liquidity:\n",
    "- M0<br>Monetary base<br>M0 = Currency notes + Coins + Bank reserves\n",
    "- M1<br>Narrow money, including M0 and other highly liquid deposits in the bank.<br>M1 = M0 + Demand deposits\n",
    "    - Currency in circulation\n",
    "    - Checkable bank deposits (checking account)\n",
    "    - Saving accounts\n",
    "- M2<br>M2 = M1 + Marketable securities + Other less liquid bank deposits\n",
    "    - Small time deposits (certificates of deposit)\n",
    "    - Money market funds"
   ]
  },
  {
   "cell_type": "markdown",
   "id": "25d5e2d0-3ad7-492e-a418-245bdc350f77",
   "metadata": {},
   "source": [
    "M1 and M2 money often earn little to no interest so the opportunity cost of holding liquid money is the interest you could be earning."
   ]
  }
 ],
 "metadata": {
  "kernelspec": {
   "display_name": "Python 3 (ipykernel)",
   "language": "python",
   "name": "python3"
  },
  "language_info": {
   "codemirror_mode": {
    "name": "ipython",
    "version": 3
   },
   "file_extension": ".py",
   "mimetype": "text/x-python",
   "name": "python",
   "nbconvert_exporter": "python",
   "pygments_lexer": "ipython3",
   "version": "3.8.13"
  }
 },
 "nbformat": 4,
 "nbformat_minor": 5
}
