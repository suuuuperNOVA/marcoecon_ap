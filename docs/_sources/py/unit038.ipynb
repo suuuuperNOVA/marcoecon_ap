{
 "cells": [
  {
   "cell_type": "markdown",
   "id": "f93a06fa-0997-42b3-87ac-3cc1534324b3",
   "metadata": {},
   "source": [
    "# Fiscal Policy"
   ]
  },
  {
   "cell_type": "markdown",
   "id": "737a67b8-1a91-449f-8edb-2352949224e6",
   "metadata": {},
   "source": [
    "Fiscal policy\n",
    ": Change the level of government spending or tax revenues to achieve economic stability.<br><br>\n",
    "\n",
    "Expansionary fiscal policy\n",
    ": Increase government spending and/or decrease tax collections in order to stimulate the macroeconomy.\n",
    ": Shift AD to the right.\n",
    ": Remedy a recession.<br><br>\n",
    "\n",
    "Contractionary fiscal policy\n",
    ": Decrease government spending and/or increase tax collections in order to cool off the economy and lower the price level.\n",
    ": Shift AD to the left."
   ]
  },
  {
   "cell_type": "markdown",
   "id": "c2302371-7fe2-4e01-b32d-6d1797120175",
   "metadata": {},
   "source": [
    "## Long-Run Adjustment to a Recession Gap"
   ]
  },
  {
   "cell_type": "markdown",
   "id": "179d4a79-f986-4833-af2c-8e72d326a696",
   "metadata": {},
   "source": [
    "Without the fiscal policy, LRAS can correct the recessionary gap in the **long run** as shown in the figure below:\n",
    "- When the economy is operating at E1, the unemployment rate is high. So, the unemployed workers and idle resources put downward pressure on wages and other production costs.\n",
    "- When the resource prices fall, firms will increase the production, shifting SRAS to the right.\n",
    "- The price level will fall and real GDP will increase.\n",
    "- The economy will operate at a point on LRAS."
   ]
  },
  {
   "cell_type": "markdown",
   "id": "9a35097b-09c9-46d8-86f6-3acf8d4069df",
   "metadata": {},
   "source": [
    "<img src=\"../pic/unit038_lrsadj.png\" alt=\"lrsadj\" width=\"800\"/>"
   ]
  },
  {
   "cell_type": "markdown",
   "id": "83170f92-a70d-4803-8932-09effb2bae49",
   "metadata": {},
   "source": [
    "## Long-Run Adjustment to a Inflationary Gap"
   ]
  },
  {
   "cell_type": "markdown",
   "id": "d669c380-aba4-4b1e-b40d-63d39e03c11d",
   "metadata": {},
   "source": [
    "Without the fiscal policy, LRAS can correct the inflationary gap in the **long run** as shown in the figure below:\n",
    "- When the economy is operating at E1, the unemployment rate is low. So, shortage in labor forces and resources put upward pressure on wages and other production costs.\n",
    "- When the resource prices increase, firms will decrease the production, shifting SRAS to the left.\n",
    "- The price level will increase and real GDP will decrease.\n",
    "- The economy will operate at a point on LRAS."
   ]
  },
  {
   "cell_type": "markdown",
   "id": "d06b97e5-8c05-4037-879e-cb91014047ae",
   "metadata": {},
   "source": [
    "<img src=\"../pic/unit038_lradjinf.png\" alt=\"inf\" width=\"800\"/>"
   ]
  },
  {
   "cell_type": "markdown",
   "id": "a1d18d5a-cf98-4620-8bc1-d6dba7384278",
   "metadata": {},
   "source": [
    "## Expansionary Fiscal Policy\n",
    "\n",
    "The government increases spending or reduces tax collections, shifting AD to the right. The economy will operate at the point on LRAS. \n",
    "\n",
    "However, an expansionary fiscal policy has drawbacks:\n",
    "- Cause inflation;\n",
    "- Cause budget deficit."
   ]
  },
  {
   "cell_type": "markdown",
   "id": "8b33ea48-6dd2-4ed4-933c-4ae9ad33d14e",
   "metadata": {},
   "source": [
    "<img src=\"../pic/unit038_expansion.png\" alt=\"ex\" width=\"400\"/>"
   ]
  },
  {
   "cell_type": "markdown",
   "id": "2eb5673a-9413-46d9-9e1e-870788017e8b",
   "metadata": {},
   "source": [
    "## Contractionary Fiscal Policy\n",
    "\n"
   ]
  },
  {
   "cell_type": "markdown",
   "id": "6926953f-2293-4d50-bfd4-4c915b86dc78",
   "metadata": {},
   "source": [
    "The government decreases spending or increases tax collections, shifting AD to the left. The economy will operate at the point on LRAS. The government budget will tend toward a surplus."
   ]
  },
  {
   "cell_type": "markdown",
   "id": "70c39045-eb36-4165-9d8f-5803fa2a5349",
   "metadata": {},
   "source": [
    "<img src=\"../pic/unit038_contract.png\" alt=\"contractionary\" width=\"400\"/>"
   ]
  },
  {
   "cell_type": "markdown",
   "id": "e57283a3-18f5-4249-8fcb-af55c3d9a82b",
   "metadata": {},
   "source": [
    "## Fiscal Policy in Practice"
   ]
  },
  {
   "cell_type": "markdown",
   "id": "813dcc5d-7409-421f-b627-df630835b365",
   "metadata": {},
   "source": [
    "There are lags to discretionary fiscal policy because of factors such as the time it takes to decide on and implement a policy action."
   ]
  }
 ],
 "metadata": {
  "kernelspec": {
   "display_name": "Python 3 (ipykernel)",
   "language": "python",
   "name": "python3"
  },
  "language_info": {
   "codemirror_mode": {
    "name": "ipython",
    "version": 3
   },
   "file_extension": ".py",
   "mimetype": "text/x-python",
   "name": "python",
   "nbconvert_exporter": "python",
   "pygments_lexer": "ipython3",
   "version": "3.8.13"
  }
 },
 "nbformat": 4,
 "nbformat_minor": 5
}
