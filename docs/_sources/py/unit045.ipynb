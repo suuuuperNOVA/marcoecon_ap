{
 "cells": [
  {
   "cell_type": "markdown",
   "id": "f1497780-9964-47b8-9d28-b7ec600c1efc",
   "metadata": {},
   "source": [
    "# The Money Market"
   ]
  },
  {
   "cell_type": "markdown",
   "id": "862cd322-0c02-4e6c-9093-8a404ec07a7c",
   "metadata": {},
   "source": [
    "> The supply and demand for money make up the money market.\n",
    "\n",
    "Money market model:\n",
    "- Nominal interest rate is the y-axis,\n",
    "- Quantity of money is the x-axis."
   ]
  },
  {
   "cell_type": "markdown",
   "id": "152ff044-206c-47d7-be5f-19f7e33703a1",
   "metadata": {},
   "source": [
    "## Demand of Money"
   ]
  },
  {
   "cell_type": "markdown",
   "id": "523a5ebd-741d-49f7-98e8-837b91cc5dee",
   "metadata": {},
   "source": [
    "The demand of money is downward sloping.\n",
    "- Higher interest rate, lower money in hand;\n",
    "- Lower interest rate,  more money in hand.\n",
    "\n",
    "### Shifts of Demand of Money\n",
    "\n",
    "- A change in income<br>A higher income, more money to spend. The money demand curve shifts to the right.\n",
    "- A change in the price level<br>A higher price level, more money needed. The money demand curve shifts to the right."
   ]
  },
  {
   "cell_type": "markdown",
   "id": "0b8f073f-5c2e-4c34-bac0-a69914f52087",
   "metadata": {},
   "source": [
    "As shown in the figure below, an increase in the demand for money will increase the interest rate."
   ]
  },
  {
   "cell_type": "markdown",
   "id": "79d8f1c6-fc1e-4ec8-b994-c35808635225",
   "metadata": {},
   "source": [
    "<img src='../pic/unit045_demand.png' alt='Md' width='500'/>"
   ]
  },
  {
   "cell_type": "markdown",
   "id": "0fd9ca56-873c-4ffb-9692-25d3613d538c",
   "metadata": {},
   "source": [
    "## Supply of Money"
   ]
  },
  {
   "cell_type": "markdown",
   "id": "f468d3eb-92e3-4bd2-8793-faf0e3f3ac65",
   "metadata": {
    "tags": []
   },
   "source": [
    "The supply of money is vertical because it is set by the Fed and independent from the interest rate."
   ]
  },
  {
   "cell_type": "markdown",
   "id": "04b270d2-1633-46ad-a7c7-1c0d5d6725fb",
   "metadata": {},
   "source": [
    "As shown in the figure below, an increase in the money supply will decrease the interest rate."
   ]
  },
  {
   "cell_type": "markdown",
   "id": "3d57dc15-df82-4552-95d0-41c1b42fbbeb",
   "metadata": {},
   "source": [
    "<img src='../pic/unit045_supply.png' alt='Ms' width='500'/>"
   ]
  },
  {
   "cell_type": "markdown",
   "id": "22143443-4463-4d9b-8d14-467bf267657a",
   "metadata": {},
   "source": [
    "Disequilibrium nominal interest rates create surpluses and shortages in the money market. Market forces drive nominal interest rates toward equilibrium."
   ]
  }
 ],
 "metadata": {
  "kernelspec": {
   "display_name": "Python 3 (ipykernel)",
   "language": "python",
   "name": "python3"
  },
  "language_info": {
   "codemirror_mode": {
    "name": "ipython",
    "version": 3
   },
   "file_extension": ".py",
   "mimetype": "text/x-python",
   "name": "python",
   "nbconvert_exporter": "python",
   "pygments_lexer": "ipython3",
   "version": "3.8.13"
  }
 },
 "nbformat": 4,
 "nbformat_minor": 5
}
