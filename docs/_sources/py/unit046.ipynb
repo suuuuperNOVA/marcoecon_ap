{
 "cells": [
  {
   "cell_type": "markdown",
   "id": "a8925ff9-b4d3-4300-ab3e-a98eb0a7bdd5",
   "metadata": {},
   "source": [
    "# Monetary Policy"
   ]
  },
  {
   "cell_type": "markdown",
   "id": "9d7d7dc1-a3b0-4adb-8a72-3a8ca42f959a",
   "metadata": {},
   "source": [
    "The money supply can **only** be changed by the Fed. The Fed changes the amount of money in the economy in 3 ways:\n",
    "- Reserve requirement ratio\n",
    "    - For a higher reserve requirement ratio, banks can hold more money and have less excess reserve;\n",
    "    - For a lower reserve requirement ratio, banks can hold less money and have more excess reserve.\n",
    "- Discount rate<br>The interest rate at which the Fed charges commercial banks.\n",
    "    - More money supply at a lower discount rate;\n",
    "    - Less money supply at a higher discount rate.\n",
    "- Public market operation\n",
    "    - More money supply when the Fed buys government bonds;\n",
    "    - Less money supply when the Fed sells government bonds."
   ]
  },
  {
   "cell_type": "markdown",
   "id": "907a3a52-6f9c-4d85-bb70-98f481802835",
   "metadata": {},
   "source": [
    "- The Fed changes the money supply to achieve macroeconomic goals, such as price stability and full employment.\n",
    "- In reality, there are lags to monetary policy caused by the time it takes to recognize a problem in the economy and the time it takes the economy to adjust to the policy action."
   ]
  }
 ],
 "metadata": {
  "kernelspec": {
   "display_name": "Python 3 (ipykernel)",
   "language": "python",
   "name": "python3"
  },
  "language_info": {
   "codemirror_mode": {
    "name": "ipython",
    "version": 3
   },
   "file_extension": ".py",
   "mimetype": "text/x-python",
   "name": "python",
   "nbconvert_exporter": "python",
   "pygments_lexer": "ipython3",
   "version": "3.8.13"
  }
 },
 "nbformat": 4,
 "nbformat_minor": 5
}
