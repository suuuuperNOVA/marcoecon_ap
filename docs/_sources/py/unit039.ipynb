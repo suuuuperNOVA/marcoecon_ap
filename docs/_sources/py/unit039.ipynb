{
 "cells": [
  {
   "cell_type": "markdown",
   "id": "160778f7-d058-45da-bd34-39a33b7709e3",
   "metadata": {},
   "source": [
    "# Automatic Stabilizers"
   ]
  },
  {
   "cell_type": "markdown",
   "id": "ce2dd4ca-27c4-4b2f-a401-df457fbba66b",
   "metadata": {},
   "source": [
    "Automatic stabilizer\n",
    ": Government policy in place promotes deficit spending during recessions and surplus budgets during expansions to prevent business cycles from becoming too extreme.\n",
    ": Prevent recessions from becoming depressions,\n",
    ": Keep inflations from turning into hyperinflations.\n",
    ": e.g. Temporary Aid to Needy Families."
   ]
  }
 ],
 "metadata": {
  "kernelspec": {
   "display_name": "Python 3 (ipykernel)",
   "language": "python",
   "name": "python3"
  },
  "language_info": {
   "codemirror_mode": {
    "name": "ipython",
    "version": 3
   },
   "file_extension": ".py",
   "mimetype": "text/x-python",
   "name": "python",
   "nbconvert_exporter": "python",
   "pygments_lexer": "ipython3",
   "version": "3.8.13"
  }
 },
 "nbformat": 4,
 "nbformat_minor": 5
}
