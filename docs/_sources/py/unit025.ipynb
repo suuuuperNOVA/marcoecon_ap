{
 "cells": [
  {
   "cell_type": "markdown",
   "id": "df92ce6b-a31c-4173-a7de-d50bebde51db",
   "metadata": {},
   "source": [
    "# Costs of Inflation"
   ]
  },
  {
   "cell_type": "markdown",
   "id": "592c0c4d-0268-45fd-a9f3-4fc49cd29c40",
   "metadata": {},
   "source": [
    "Menu cost\n",
    ": Cost to change listed price.<br><br>\n",
    "\n",
    "Shoe leather cost\n",
    ": Costs of transactions increase.\n",
    ": People reduce their real money holdings so they must spend time and effort making additional trips to the bank.<br><br>\n",
    "\n",
    "Unit of account cost\n",
    ": Money becomes unreliabe measures the value of goods/services.\n",
    ": Leads to less efficient use of resources because of uncertainty caused by changes in currency value."
   ]
  },
  {
   "cell_type": "markdown",
   "id": "43bc0b43-0e19-4607-92fc-4d3b172664cf",
   "metadata": {},
   "source": [
    "```{Note}\n",
    "- If the inflation is greater than the increase in household's income, the purchasing power of savings will decrease, discouraging savings. Inflation is detrimental to households.\n",
    "- Firms face *menu cost*, *shoe leather cost* and *unit of account cost*.\n",
    "- Within unanticipated inflation, borrowers will benefit and lenders will be hurt. So, unanticipated inflation will discourage financial activities. Inflation redistributes wealth from lenders to borrowers.\n",
    "- Inflation can be deemed as a tax which benefits the government but harms households.\n",
    "```"
   ]
  }
 ],
 "metadata": {
  "kernelspec": {
   "display_name": "Python 3 (ipykernel)",
   "language": "python",
   "name": "python3"
  },
  "language_info": {
   "codemirror_mode": {
    "name": "ipython",
    "version": 3
   },
   "file_extension": ".py",
   "mimetype": "text/x-python",
   "name": "python",
   "nbconvert_exporter": "python",
   "pygments_lexer": "ipython3",
   "version": "3.8.13"
  }
 },
 "nbformat": 4,
 "nbformat_minor": 5
}
