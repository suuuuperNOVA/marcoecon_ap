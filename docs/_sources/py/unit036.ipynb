{
 "cells": [
  {
   "cell_type": "markdown",
   "id": "9b58be87-9db0-4865-9a57-6cbeca3dd1ed",
   "metadata": {},
   "source": [
    "# Changes in the AD-AS Model in the Short Run"
   ]
  },
  {
   "cell_type": "markdown",
   "id": "271cb9d0-7328-441e-aa4a-95b11d939889",
   "metadata": {},
   "source": [
    "Inflation can be caused by\n",
    "- Demand-pull<br>Increase in AD.\n",
    "- Cost-push<br>Decrease in SRAS."
   ]
  },
  {
   "cell_type": "markdown",
   "id": "507e7312-e4ea-45b0-b6a7-e96c47c8a647",
   "metadata": {},
   "source": [
    "Stagflation\n",
    ": Recession accompanied by rising prices."
   ]
  },
  {
   "cell_type": "markdown",
   "id": "d28ac44b-8a1a-4143-b22d-62d6829e0cf1",
   "metadata": {},
   "source": [
    "Stagflation is caused by a decrease in SRSA, as shown in the figure below."
   ]
  },
  {
   "cell_type": "markdown",
   "id": "71001fc0-a4a5-4ffb-a914-8173716aca71",
   "metadata": {},
   "source": [
    "<img src=\"../pic/unit035_asshift.png\" alt=\"asshift\" width=\"400\"/>"
   ]
  }
 ],
 "metadata": {
  "kernelspec": {
   "display_name": "Python 3 (ipykernel)",
   "language": "python",
   "name": "python3"
  },
  "language_info": {
   "codemirror_mode": {
    "name": "ipython",
    "version": 3
   },
   "file_extension": ".py",
   "mimetype": "text/x-python",
   "name": "python",
   "nbconvert_exporter": "python",
   "pygments_lexer": "ipython3",
   "version": "3.8.13"
  }
 },
 "nbformat": 4,
 "nbformat_minor": 5
}
