{
 "cells": [
  {
   "cell_type": "markdown",
   "id": "4bc71480-5564-4263-8921-2ec3a5983f31",
   "metadata": {},
   "source": [
    "# Open Economy--International Trade and Finance"
   ]
  },
  {
   "cell_type": "markdown",
   "id": "58a905e1-6314-4cf5-a790-6635ef0c7ec1",
   "metadata": {
    "tags": []
   },
   "source": [
    "## Balance of Payments Accounts\n",
    "\n",
    "```{admonition} Definitions\n",
    "**Net Export = Exports - Imports**<br>\n",
    "- When export > import, **trade surplus**.\n",
    "- When export < import, **trade deficit**.\n",
    "<br>\n",
    "\n",
    "Current account (CA)\n",
    ": Record of net exports with investment income and net transfers.<br>\n",
    "\n",
    "\n",
    "Capital and financial account (CFA)\n",
    ": Measures the purchase and sale of production factors (investment) and financial assets abroad.<br>\n",
    "\n",
    "\n",
    "Balance of payment (BOP)\n",
    ": An accounting system that records a country’s international transactions for a particular time period. It consists of the CA and the CFA.\n",
    ": BOP = Current Account + Capital and Financial Account\n",
    ": BOP should be always balanced (BOP = 0).\n",
    "```"
   ]
  },
  {
   "cell_type": "markdown",
   "id": "09d16c60-0cd4-4db2-8aca-b31139def298",
   "metadata": {},
   "source": [
    "## Exchange Rates\n",
    "\n",
    "Exchange rate\n",
    ": Price of one currency relative to another currency.\n",
    ": If one currency becomes more valuable in terms of the other, it is said to **appreciate**.\n",
    ": If one currency becomes less valuable in terms of the\n",
    "other, it is said to **depreciate**."
   ]
  },
  {
   "cell_type": "markdown",
   "id": "4ff79b4c-42bf-4ab0-85ca-e333bf27c292",
   "metadata": {},
   "source": [
    "## The Foreign Exchange Market"
   ]
  },
  {
   "cell_type": "markdown",
   "id": "e2b3ed74-d371-453f-8e99-7b9320436dfb",
   "metadata": {
    "tags": []
   },
   "source": [
    "> We are using the demand and supply model in the foreign exchange market."
   ]
  },
  {
   "cell_type": "markdown",
   "id": "4a293d53-f2af-452d-899c-65576622959d",
   "metadata": {},
   "source": [
    "The figure below shows the demand and supply model in the foreign exchange market. The y-axis is the value of the dollar which is not the same as the demand for money.\n",
    "\n",
    "- The demand for dollar is downward sloping.\n",
    "- The supply for dollar is upward sloping."
   ]
  },
  {
   "cell_type": "markdown",
   "id": "3bdf03b7-367b-4a3f-bdfa-3925d55ef1bc",
   "metadata": {},
   "source": [
    "<img src='../pic/unit06_ex.png' alt='ex' width='600'/>"
   ]
  },
  {
   "cell_type": "markdown",
   "id": "98f84d0a-b8e1-4b3c-b545-586887486d70",
   "metadata": {},
   "source": [
    "### Shifters of the Demand for Dollars\n",
    "\n",
    "The demand for dollars will shift to the right, if:\n",
    "- Foreigners want more US products.\n",
    "- Foreigners want to invest more in the US."
   ]
  },
  {
   "cell_type": "markdown",
   "id": "bb31cb47-69b3-4fcd-b73d-4ec96d7278fe",
   "metadata": {},
   "source": [
    "### Shifters of the Supply for Dollars\n",
    "\n",
    "The supply for dollars will shift to the right, if:\n",
    "- Americans want more foreign products.\n",
    "- Americans want to invest more abroad."
   ]
  },
  {
   "cell_type": "markdown",
   "id": "acb74c92-189e-43a2-afbf-4c2726333865",
   "metadata": {},
   "source": [
    "Taking Rupees and $ as an example:\n",
    "- If Russians prefer to buy more US products, the demand for the US dollar increases (Panel A);\n",
    "- In the US market, Russians use Rupees to exchange for US dollars and the supply for Rupees increases (Panel B)."
   ]
  },
  {
   "cell_type": "markdown",
   "id": "b574c2be-afde-41b3-abac-c2b5d676731a",
   "metadata": {},
   "source": [
    "<img src='../pic/unit06_rupee.png' alt='ex' width='800'/>"
   ]
  },
  {
   "cell_type": "markdown",
   "id": "2cb2b433-6a53-4403-884c-91003547d09e",
   "metadata": {},
   "source": [
    "## Effect of Changes in Policies and Economic Conditions on the Foreign Exchange Market"
   ]
  },
  {
   "cell_type": "markdown",
   "id": "2399586c-ca33-4993-91fb-83f0bb40e178",
   "metadata": {},
   "source": [
    "### Determinants of Exchange Rates:\n",
    "- Demand for a nation's exports (tastes)\n",
    "- Relative interest rates<br>If the US interest rate increases relative to the rest of the world, money will flow to the US (more demands for US dollars).\n",
    "- Political stability\n",
    "- Relative level of income<br>If incomes in China raise more than the US, China will buy more US products (more imports).\n",
    "- Relative prices<br>If the inflation rate in the US is higher than Canada, US people will want more Canadian products.\n",
    "- Speculation"
   ]
  },
  {
   "cell_type": "markdown",
   "id": "ceb8f089-3ded-4a31-ae70-a9c56febc0ba",
   "metadata": {},
   "source": [
    "### Trade Restrictions\n",
    "\n",
    "- Tariff<br>Tax on imports\n",
    "- Quota<br>Limit on the quantity of imports<br>\n",
    "\n",
    "Each of these decrease the supply of the currency restricting trade since fewer transactions are taking place. "
   ]
  },
  {
   "cell_type": "markdown",
   "id": "cc467218-0515-4a2c-821f-14e7c4a80089",
   "metadata": {},
   "source": [
    "### Exchange Rate Regimes\n",
    "\n",
    "Fixed exchange rate\n",
    ": The government actively manages the country’s currency.<br>\n",
    "\n",
    "Floating exchange rate\n",
    ": The market determines the value of the country’s currency."
   ]
  },
  {
   "cell_type": "markdown",
   "id": "2854fe4d-9d78-453a-bcff-cc9323b21e66",
   "metadata": {},
   "source": [
    "## Changes in the Foreign Exchange Market and Net Exports"
   ]
  },
  {
   "cell_type": "markdown",
   "id": "82278195-99c9-485b-b2d0-13d7eaa2a4d5",
   "metadata": {},
   "source": [
    "A change in the international value of a country’s currency can drastically effect their exports and imports.\n",
    "\n",
    "- Currency appreciation reduces net exports;\n",
    "- Currency depreciation increases net exports.\n",
    "\n",
    "\n",
    "Some governments attempt to depreciate their country’s currency in order to promote exports."
   ]
  },
  {
   "cell_type": "markdown",
   "id": "0feb7022-e945-48a0-ab16-895a95aafbfc",
   "metadata": {},
   "source": [
    "## Real Interest Rates and International Capital Flows"
   ]
  },
  {
   "cell_type": "markdown",
   "id": "f8da7444-81c9-489a-bd7b-e44d7b5dd0e8",
   "metadata": {},
   "source": [
    "In an open economy, differences in real interest rates across countries change the relative values of domestic and foreign assets. Financial capital will flow toward the country with the relatively higher interest rate.\n",
    "\n",
    "- The demand for that currency will increase;\n",
    "- When the capital flows into the country, the supply for the loanable funds will increase;\n",
    "- When more loanable funds are available, the interest rate will decrease."
   ]
  }
 ],
 "metadata": {
  "kernelspec": {
   "display_name": "Python 3 (ipykernel)",
   "language": "python",
   "name": "python3"
  },
  "language_info": {
   "codemirror_mode": {
    "name": "ipython",
    "version": 3
   },
   "file_extension": ".py",
   "mimetype": "text/x-python",
   "name": "python",
   "nbconvert_exporter": "python",
   "pygments_lexer": "ipython3",
   "version": "3.8.13"
  }
 },
 "nbformat": 4,
 "nbformat_minor": 5
}
