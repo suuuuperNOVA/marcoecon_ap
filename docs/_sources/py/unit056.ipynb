{
 "cells": [
  {
   "cell_type": "markdown",
   "id": "a160de25-3f82-4a90-ad42-083d6187a925",
   "metadata": {},
   "source": [
    "# Economic Growth"
   ]
  },
  {
   "cell_type": "markdown",
   "id": "8abf0553-2579-455d-9d08-eeed368347cf",
   "metadata": {},
   "source": [
    "- Real GDP per capita<br>Measure of economic growth.\n",
    "- Productivity<br>Determined by the level of technology and physical and human capital per worker.\n",
    "- The aggregate production function shows that output per capita is positively related to both physical and human capital per capita.\n",
    "- An outward shift in the PPC is analogous to a rightward shift of the long-run aggregate supply curve."
   ]
  }
 ],
 "metadata": {
  "kernelspec": {
   "display_name": "Python 3 (ipykernel)",
   "language": "python",
   "name": "python3"
  },
  "language_info": {
   "codemirror_mode": {
    "name": "ipython",
    "version": 3
   },
   "file_extension": ".py",
   "mimetype": "text/x-python",
   "name": "python",
   "nbconvert_exporter": "python",
   "pygments_lexer": "ipython3",
   "version": "3.8.13"
  }
 },
 "nbformat": 4,
 "nbformat_minor": 5
}
