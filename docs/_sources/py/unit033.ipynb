{
 "cells": [
  {
   "cell_type": "markdown",
   "id": "ad9a6a98-445e-48b6-b681-334b8ff3cb4e",
   "metadata": {},
   "source": [
    "# Short-Run Aggregate Supply (SRAS)"
   ]
  },
  {
   "cell_type": "markdown",
   "id": "3d149b24-cdb7-4ca0-9694-fd87a38a3d01",
   "metadata": {},
   "source": [
    "Aggregate supply/AS\n",
    ": Amount of goods and services (real GDP) that firms will produce in an economy at different price levels. The supply for everything by all firms.\n",
    ": AS differentiates between short run and long-run and has two different curves.<br><br>\n",
    "\n",
    "Short-Run aggregate supply/SRAS\n",
    ": Wages and resource prices are sticky and will not change as price levels change.<br><br>\n",
    "\n",
    "Long-Run aggregate supply/LRAS\n",
    ": Wages and resource prices are flexible and will change as price levels change."
   ]
  },
  {
   "cell_type": "markdown",
   "id": "703ef30a-2eb7-404d-bc91-66e15ff60a97",
   "metadata": {},
   "source": [
    "> Similar to AD, the y-axis is price level and the x-axis is real GDP. The figure below shows a SRAS curve."
   ]
  },
  {
   "cell_type": "code",
   "execution_count": 1,
   "id": "4b47be78-6b0f-473f-9f56-3f4dafca8dd2",
   "metadata": {
    "tags": [
     "remove-input"
    ]
   },
   "outputs": [],
   "source": [
    "import pandas as pd\n",
    "import altair as alt"
   ]
  },
  {
   "cell_type": "code",
   "execution_count": 6,
   "id": "b739b0c6-8b5f-48f3-8e4b-97d3c3c41dd1",
   "metadata": {
    "jupyter": {
     "source_hidden": true
    },
    "tags": [
     "remove-input"
    ]
   },
   "outputs": [],
   "source": [
    "df = pd.DataFrame(data={'price': [2.5, 2, 1.5, 1], 'quantity':[4, 3, 2, 1]})\n",
    "\n",
    "fig1 = alt.Chart(df).mark_line(point=alt.OverlayMarkDef(filled=False, fill='white')).encode(\n",
    "    alt.X('quantity', title='Real GDP', scale=alt.Scale(domain=[0,5])),\n",
    "    alt.Y('price', title='Price Level', scale=alt.Scale(domain=[0,3])),\n",
    ").properties(title='Short-Run Aggregate Supply')\n",
    "\n",
    "text1 = alt.Chart({'values':[{'x': 4.35, 'y': 2.6}]}).mark_text(\n",
    "    text='SRAS',\n",
    "    fontSize=15\n",
    ").encode(x='x:Q', y='y:Q')"
   ]
  },
  {
   "cell_type": "code",
   "execution_count": 7,
   "id": "ec0d946a-17fa-484b-b21b-1cf42d74bef6",
   "metadata": {
    "jupyter": {
     "source_hidden": true
    },
    "tags": [
     "remove-input"
    ]
   },
   "outputs": [
    {
     "data": {
      "text/html": [
       "\n",
       "<div id=\"altair-viz-19040659cec74211984dd49139777ea0\"></div>\n",
       "<script type=\"text/javascript\">\n",
       "  (function(spec, embedOpt){\n",
       "    let outputDiv = document.currentScript.previousElementSibling;\n",
       "    if (outputDiv.id !== \"altair-viz-19040659cec74211984dd49139777ea0\") {\n",
       "      outputDiv = document.getElementById(\"altair-viz-19040659cec74211984dd49139777ea0\");\n",
       "    }\n",
       "    const paths = {\n",
       "      \"vega\": \"https://cdn.jsdelivr.net/npm//vega@5?noext\",\n",
       "      \"vega-lib\": \"https://cdn.jsdelivr.net/npm//vega-lib?noext\",\n",
       "      \"vega-lite\": \"https://cdn.jsdelivr.net/npm//vega-lite@4.8.1?noext\",\n",
       "      \"vega-embed\": \"https://cdn.jsdelivr.net/npm//vega-embed@6?noext\",\n",
       "    };\n",
       "\n",
       "    function loadScript(lib) {\n",
       "      return new Promise(function(resolve, reject) {\n",
       "        var s = document.createElement('script');\n",
       "        s.src = paths[lib];\n",
       "        s.async = true;\n",
       "        s.onload = () => resolve(paths[lib]);\n",
       "        s.onerror = () => reject(`Error loading script: ${paths[lib]}`);\n",
       "        document.getElementsByTagName(\"head\")[0].appendChild(s);\n",
       "      });\n",
       "    }\n",
       "\n",
       "    function showError(err) {\n",
       "      outputDiv.innerHTML = `<div class=\"error\" style=\"color:red;\">${err}</div>`;\n",
       "      throw err;\n",
       "    }\n",
       "\n",
       "    function displayChart(vegaEmbed) {\n",
       "      vegaEmbed(outputDiv, spec, embedOpt)\n",
       "        .catch(err => showError(`Javascript Error: ${err.message}<br>This usually means there's a typo in your chart specification. See the javascript console for the full traceback.`));\n",
       "    }\n",
       "\n",
       "    if(typeof define === \"function\" && define.amd) {\n",
       "      requirejs.config({paths});\n",
       "      require([\"vega-embed\"], displayChart, err => showError(`Error loading script: ${err.message}`));\n",
       "    } else if (typeof vegaEmbed === \"function\") {\n",
       "      displayChart(vegaEmbed);\n",
       "    } else {\n",
       "      loadScript(\"vega\")\n",
       "        .then(() => loadScript(\"vega-lite\"))\n",
       "        .then(() => loadScript(\"vega-embed\"))\n",
       "        .catch(showError)\n",
       "        .then(() => displayChart(vegaEmbed));\n",
       "    }\n",
       "  })({\"config\": {\"view\": {\"continuousWidth\": 400, \"continuousHeight\": 300}}, \"layer\": [{\"data\": {\"name\": \"data-a09ee1c99b4c8b8319153ffb3c568b6a\"}, \"mark\": {\"type\": \"line\", \"point\": {\"fill\": \"white\", \"filled\": false}}, \"encoding\": {\"x\": {\"type\": \"quantitative\", \"field\": \"quantity\", \"scale\": {\"domain\": [0, 5]}, \"title\": \"Real GDP\"}, \"y\": {\"type\": \"quantitative\", \"field\": \"price\", \"scale\": {\"domain\": [0, 3]}, \"title\": \"Price Level\"}}, \"title\": \"Short-Run Aggregate Supply\"}, {\"data\": {\"name\": \"data-7265d61630657af8c70b267234b69095\"}, \"mark\": {\"type\": \"text\", \"fontSize\": 15, \"text\": \"SRAS\"}, \"encoding\": {\"x\": {\"type\": \"quantitative\", \"field\": \"x\"}, \"y\": {\"type\": \"quantitative\", \"field\": \"y\"}}}], \"$schema\": \"https://vega.github.io/schema/vega-lite/v4.8.1.json\", \"datasets\": {\"data-a09ee1c99b4c8b8319153ffb3c568b6a\": [{\"price\": 2.5, \"quantity\": 4}, {\"price\": 2.0, \"quantity\": 3}, {\"price\": 1.5, \"quantity\": 2}, {\"price\": 1.0, \"quantity\": 1}], \"data-7265d61630657af8c70b267234b69095\": [{\"x\": 4.35, \"y\": 2.6}]}}, {\"mode\": \"vega-lite\"});\n",
       "</script>"
      ],
      "text/plain": [
       "alt.LayerChart(...)"
      ]
     },
     "execution_count": 7,
     "metadata": {},
     "output_type": "execute_result"
    }
   ],
   "source": [
    "fig1 + text1"
   ]
  },
  {
   "cell_type": "markdown",
   "id": "dcdbec78-dee6-4726-838d-a98effacfdc6",
   "metadata": {},
   "source": [
    "```{admonition} SRAS is upward sloping\n",
    "- If the price level increases (inflation), then real GDP supplied increases.\n",
    "\n",
    "- If the price level decreases (deflation), then real GDP supplied decreases.\n",
    "\n",
    "\n",
    "Reasons why AS is upward sloping:<br>\n",
    "Suppliers have incentive to bring more to market if the price level rises because they can get more for their finished products while wages remain unchanged.\n",
    "```"
   ]
  },
  {
   "cell_type": "markdown",
   "id": "00dd3aa6-b8ac-412f-ac53-dd786ebc3469",
   "metadata": {},
   "source": [
    "## Factors shifting SRAS"
   ]
  },
  {
   "cell_type": "markdown",
   "id": "aa714d40-f02a-4e4e-93e6-2ad38df26574",
   "metadata": {},
   "source": [
    "```{admonition} Factors shift SRAS\n",
    "- Change in the amount of resources in the economy\n",
    "- Change in production technology\n",
    "- Change in expected future prices\n",
    "- Change in prices of land, labor, or capital\n",
    "- Change in actions of the government (tax or subsidy)\n",
    "\n",
    "The figure below shows the shifts of SRAS.\n",
    "```"
   ]
  },
  {
   "cell_type": "code",
   "execution_count": 16,
   "id": "0843e204-b5a4-41bc-95d6-f68842457a55",
   "metadata": {
    "jupyter": {
     "source_hidden": true
    },
    "tags": [
     "remove-input"
    ]
   },
   "outputs": [
    {
     "data": {
      "text/html": [
       "\n",
       "<div id=\"altair-viz-aa23afc2347e4632a2b788a5d5bfd4e3\"></div>\n",
       "<script type=\"text/javascript\">\n",
       "  (function(spec, embedOpt){\n",
       "    let outputDiv = document.currentScript.previousElementSibling;\n",
       "    if (outputDiv.id !== \"altair-viz-aa23afc2347e4632a2b788a5d5bfd4e3\") {\n",
       "      outputDiv = document.getElementById(\"altair-viz-aa23afc2347e4632a2b788a5d5bfd4e3\");\n",
       "    }\n",
       "    const paths = {\n",
       "      \"vega\": \"https://cdn.jsdelivr.net/npm//vega@5?noext\",\n",
       "      \"vega-lib\": \"https://cdn.jsdelivr.net/npm//vega-lib?noext\",\n",
       "      \"vega-lite\": \"https://cdn.jsdelivr.net/npm//vega-lite@4.8.1?noext\",\n",
       "      \"vega-embed\": \"https://cdn.jsdelivr.net/npm//vega-embed@6?noext\",\n",
       "    };\n",
       "\n",
       "    function loadScript(lib) {\n",
       "      return new Promise(function(resolve, reject) {\n",
       "        var s = document.createElement('script');\n",
       "        s.src = paths[lib];\n",
       "        s.async = true;\n",
       "        s.onload = () => resolve(paths[lib]);\n",
       "        s.onerror = () => reject(`Error loading script: ${paths[lib]}`);\n",
       "        document.getElementsByTagName(\"head\")[0].appendChild(s);\n",
       "      });\n",
       "    }\n",
       "\n",
       "    function showError(err) {\n",
       "      outputDiv.innerHTML = `<div class=\"error\" style=\"color:red;\">${err}</div>`;\n",
       "      throw err;\n",
       "    }\n",
       "\n",
       "    function displayChart(vegaEmbed) {\n",
       "      vegaEmbed(outputDiv, spec, embedOpt)\n",
       "        .catch(err => showError(`Javascript Error: ${err.message}<br>This usually means there's a typo in your chart specification. See the javascript console for the full traceback.`));\n",
       "    }\n",
       "\n",
       "    if(typeof define === \"function\" && define.amd) {\n",
       "      requirejs.config({paths});\n",
       "      require([\"vega-embed\"], displayChart, err => showError(`Error loading script: ${err.message}`));\n",
       "    } else if (typeof vegaEmbed === \"function\") {\n",
       "      displayChart(vegaEmbed);\n",
       "    } else {\n",
       "      loadScript(\"vega\")\n",
       "        .then(() => loadScript(\"vega-lite\"))\n",
       "        .then(() => loadScript(\"vega-embed\"))\n",
       "        .catch(showError)\n",
       "        .then(() => displayChart(vegaEmbed));\n",
       "    }\n",
       "  })({\"config\": {\"view\": {\"continuousWidth\": 400, \"continuousHeight\": 300}}, \"layer\": [{\"mark\": {\"type\": \"line\", \"point\": {\"fill\": \"white\", \"filled\": false}}, \"encoding\": {\"x\": {\"type\": \"quantitative\", \"field\": \"quantity0\", \"scale\": {\"domain\": [0, 10]}, \"title\": \"Real GDP\"}, \"y\": {\"type\": \"quantitative\", \"field\": \"price\", \"scale\": {\"domain\": [0, 3]}, \"title\": \"Price Level\"}}, \"title\": \"Short-Run Aggregate Supply\"}, {\"mark\": {\"type\": \"line\", \"color\": \"green\", \"point\": {\"color\": \"green\", \"fill\": \"white\", \"filled\": false}}, \"encoding\": {\"x\": {\"type\": \"quantitative\", \"field\": \"quantity1\", \"scale\": {\"domain\": [0, 10]}, \"title\": \"Real GDP\"}, \"y\": {\"type\": \"quantitative\", \"field\": \"price\", \"scale\": {\"domain\": [0, 3]}, \"title\": \"Price Level\"}}}, {\"mark\": {\"type\": \"line\", \"color\": \"red\", \"point\": {\"color\": \"red\", \"fill\": \"white\", \"filled\": false}}, \"encoding\": {\"x\": {\"type\": \"quantitative\", \"field\": \"quantity2\", \"scale\": {\"domain\": [0, 10]}, \"title\": \"Real GDP\"}, \"y\": {\"type\": \"quantitative\", \"field\": \"price\", \"scale\": {\"domain\": [0, 3]}, \"title\": \"Price Level\"}}}, {\"data\": {\"name\": \"data-1cfd2b7039b7855aac00328c6e2015b7\"}, \"mark\": {\"type\": \"text\", \"fontSize\": 15, \"text\": \"SRAS0\"}, \"encoding\": {\"x\": {\"type\": \"quantitative\", \"field\": \"x\"}, \"y\": {\"type\": \"quantitative\", \"field\": \"y\"}}}, {\"data\": {\"name\": \"data-f70f2d81eba74fb83e432c6d6363eaf5\"}, \"mark\": {\"type\": \"text\", \"fontSize\": 15, \"text\": \"SRAS1\"}, \"encoding\": {\"x\": {\"type\": \"quantitative\", \"field\": \"x\"}, \"y\": {\"type\": \"quantitative\", \"field\": \"y\"}}}, {\"data\": {\"name\": \"data-40249263d25809e18ee43a67789064fe\"}, \"mark\": {\"type\": \"text\", \"fontSize\": 15, \"text\": \"SRAS2\"}, \"encoding\": {\"x\": {\"type\": \"quantitative\", \"field\": \"x\"}, \"y\": {\"type\": \"quantitative\", \"field\": \"y\"}}}, {\"data\": {\"name\": \"data-5c8fe131483967e4605a565bd586dca2\"}, \"mark\": {\"type\": \"text\", \"fontSize\": 40, \"text\": \"\\u279f\"}, \"encoding\": {\"x\": {\"type\": \"quantitative\", \"field\": \"x\"}, \"y\": {\"type\": \"quantitative\", \"field\": \"y\"}}}, {\"data\": {\"name\": \"data-1eaf04e68a3e8c9a32728d7226904c51\"}, \"mark\": {\"type\": \"text\", \"angle\": 180, \"fontSize\": 40, \"text\": \"\\u279f\"}, \"encoding\": {\"x\": {\"type\": \"quantitative\", \"field\": \"x\"}, \"y\": {\"type\": \"quantitative\", \"field\": \"y\"}}}], \"data\": {\"name\": \"data-72dea403c10df4ba9121dd648f9aab3a\"}, \"$schema\": \"https://vega.github.io/schema/vega-lite/v4.8.1.json\", \"datasets\": {\"data-72dea403c10df4ba9121dd648f9aab3a\": [{\"price\": 2.5, \"quantity0\": 7, \"quantity1\": 9, \"quantity2\": 5}, {\"price\": 2.0, \"quantity0\": 6, \"quantity1\": 8, \"quantity2\": 4}, {\"price\": 1.5, \"quantity0\": 5, \"quantity1\": 7, \"quantity2\": 3}, {\"price\": 1.0, \"quantity0\": 4, \"quantity1\": 6, \"quantity2\": 2}], \"data-1cfd2b7039b7855aac00328c6e2015b7\": [{\"x\": 7.5, \"y\": 2.6}], \"data-f70f2d81eba74fb83e432c6d6363eaf5\": [{\"x\": 9.5, \"y\": 2.6}], \"data-40249263d25809e18ee43a67789064fe\": [{\"x\": 5.5, \"y\": 2.6}], \"data-5c8fe131483967e4605a565bd586dca2\": [{\"x\": 7.5, \"y\": 2.2}], \"data-1eaf04e68a3e8c9a32728d7226904c51\": [{\"x\": 5.5, \"y\": 2.227}]}}, {\"mode\": \"vega-lite\"});\n",
       "</script>"
      ],
      "text/plain": [
       "alt.LayerChart(...)"
      ]
     },
     "execution_count": 16,
     "metadata": {},
     "output_type": "execute_result"
    }
   ],
   "source": [
    "df2 = pd.DataFrame(data={'price': [2.5, 2, 1.5, 1], 'quantity0':[7,6,5,4], \n",
    "                         'quantity1':[9,8,7,6],\n",
    "                         'quantity2':[5,4,3,2]}\n",
    "                  )\n",
    "\n",
    "fig2 = alt.Chart(df2).mark_line(point=alt.OverlayMarkDef(filled=False, fill='white')).encode(\n",
    "    alt.X('quantity0', title='Real GDP', scale=alt.Scale(domain=[0,10])),\n",
    "    alt.Y('price', title='Price Level', scale=alt.Scale(domain=[0,3])),\n",
    ").properties(title='Short-Run Aggregate Supply')\n",
    "\n",
    "fig3 = alt.Chart(df2).mark_line(color='green', point=alt.OverlayMarkDef(filled=False, fill='white', color='green')).encode(\n",
    "    alt.X('quantity1', title='Real GDP', scale=alt.Scale(domain=[0,10])),\n",
    "    alt.Y('price', title='Price Level', scale=alt.Scale(domain=[0,3])))\n",
    "\n",
    "fig4 = alt.Chart(df2).mark_line(color='red', point=alt.OverlayMarkDef(filled=False, fill='white', color='red')).encode(\n",
    "    alt.X('quantity2', title='Real GDP', scale=alt.Scale(domain=[0,10])),\n",
    "    alt.Y('price', title='Price Level', scale=alt.Scale(domain=[0,3])))\n",
    "\n",
    "text1 = alt.Chart({'values':[{'x': 7.5, 'y': 2.6}]}).mark_text(\n",
    "    text='SRAS0',\n",
    "    fontSize=15\n",
    ").encode(x='x:Q', y='y:Q')\n",
    "\n",
    "text2 = alt.Chart({'values':[{'x': 9.5, 'y': 2.6}]}).mark_text(\n",
    "    text='SRAS1',\n",
    "    fontSize=15\n",
    ").encode(x='x:Q', y='y:Q')\n",
    "\n",
    "text3 = alt.Chart({'values':[{'x': 5.5, 'y': 2.6}]}).mark_text(\n",
    "    text='SRAS2',\n",
    "    fontSize=15\n",
    ").encode(x='x:Q', y='y:Q')\n",
    "\n",
    "text4 = alt.Chart({'values':[{'x': 7.5, 'y': 2.2}]}).mark_text(\n",
    "    text='➟',\n",
    "    fontSize=40\n",
    ").encode(x='x:Q', y='y:Q')\n",
    "\n",
    "text5 = alt.Chart({'values':[{'x': 5.5, 'y': 2.227}]}).mark_text(\n",
    "    text='➟',\n",
    "    fontSize=40,\n",
    "    angle=180\n",
    ").encode(x='x:Q', y='y:Q')\n",
    "\n",
    "\n",
    "fig2 + fig3 + fig4 + text1 + text2 + text3 + text4 + text5"
   ]
  }
 ],
 "metadata": {
  "kernelspec": {
   "display_name": "Python 3 (ipykernel)",
   "language": "python",
   "name": "python3"
  },
  "language_info": {
   "codemirror_mode": {
    "name": "ipython",
    "version": 3
   },
   "file_extension": ".py",
   "mimetype": "text/x-python",
   "name": "python",
   "nbconvert_exporter": "python",
   "pygments_lexer": "ipython3",
   "version": "3.8.13"
  }
 },
 "nbformat": 4,
 "nbformat_minor": 5
}
